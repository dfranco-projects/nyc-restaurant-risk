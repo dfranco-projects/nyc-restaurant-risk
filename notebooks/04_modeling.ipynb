{
 "cells": [
  {
   "cell_type": "markdown",
   "metadata": {},
   "source": [
    "# 📌 NYC Restaurant Inspection Risk Prediction"
   ]
  },
  {
   "cell_type": "markdown",
   "metadata": {},
   "source": [
    "### 🧪 Modeling"
   ]
  },
  {
   "cell_type": "markdown",
   "metadata": {},
   "source": [
    "In this notebook, we will:\n",
    "\n",
    "1. **Perform hyperparameter tuning** on four models: Logistic Regression, Decision Tree, Random Forest, and Gradient Boosting, optimizing parameters based on the validation set.\n",
    "\n",
    "2. **Evaluate two scenarios:** one excluding `violation_code`, a variable highly predictive of the target—and one including it.\n",
    "\n",
    "3. **Select the best model and scenario** by comparing performance metrics to identify the most suitable approach for this task."
   ]
  },
  {
   "cell_type": "markdown",
   "metadata": {},
   "source": [
    "### Dependencies"
   ]
  },
  {
   "cell_type": "code",
   "execution_count": 88,
   "metadata": {},
   "outputs": [],
   "source": [
    "import sys\n",
    "import optuna\n",
    "import joblib\n",
    "import warnings\n",
    "import numpy as np\n",
    "import pandas as pd\n",
    "import seaborn as sns\n",
    "import matplotlib.pyplot as plt\n",
    "\n",
    "from tqdm.notebook import tqdm\n",
    "from os.path import join, abspath\n",
    "from sklearn.tree import DecisionTreeClassifier\n",
    "from sklearn.model_selection import ParameterGrid\n",
    "from sklearn.linear_model import LogisticRegression\n",
    "from sklearn.ensemble import RandomForestClassifier, GradientBoostingClassifier\n",
    "from sklearn.metrics import accuracy_score, recall_score, precision_score, roc_auc_score, f1_score\n",
    "\n",
    "# adding the root folder to the system path\n",
    "if abspath('..') not in sys.path:\n",
    "    sys.path.append(abspath('..'))\n",
    "\n",
    "from src.path_manager import PathManager\n",
    "\n",
    "# path manager to handle paths\n",
    "path_manager = PathManager()\n",
    "processed_data_path = path_manager.processed_data_path\n",
    "models_path = path_manager.models_path\n",
    "\n",
    "# ignore warnings\n",
    "warnings.filterwarnings('ignore')"
   ]
  },
  {
   "cell_type": "markdown",
   "metadata": {},
   "source": [
    "### Load Data"
   ]
  },
  {
   "cell_type": "code",
   "execution_count": 2,
   "metadata": {},
   "outputs": [
    {
     "name": "stdout",
     "output_type": "stream",
     "text": [
      "Train: (64286, 15) -> 69% \n",
      "Validation: (14388, 15) -> 15%\n",
      "Test: (14433, 15) -> 16%\n"
     ]
    },
    {
     "data": {
      "text/html": [
       "<div>\n",
       "<style scoped>\n",
       "    .dataframe tbody tr th:only-of-type {\n",
       "        vertical-align: middle;\n",
       "    }\n",
       "\n",
       "    .dataframe tbody tr th {\n",
       "        vertical-align: top;\n",
       "    }\n",
       "\n",
       "    .dataframe thead th {\n",
       "        text-align: right;\n",
       "    }\n",
       "</style>\n",
       "<table border=\"1\" class=\"dataframe\">\n",
       "  <thead>\n",
       "    <tr style=\"text-align: right;\">\n",
       "      <th></th>\n",
       "      <th>dba</th>\n",
       "      <th>building</th>\n",
       "      <th>street</th>\n",
       "      <th>zipcode</th>\n",
       "      <th>cuisine_description</th>\n",
       "      <th>score</th>\n",
       "      <th>inspection_month</th>\n",
       "      <th>inspection_year</th>\n",
       "      <th>inspection_type_other</th>\n",
       "      <th>desc_length_chars</th>\n",
       "      <th>critical_token_count</th>\n",
       "      <th>negative_sentiment</th>\n",
       "      <th>tfidf_cleaning</th>\n",
       "      <th>tfidf_food</th>\n",
       "      <th>violation_code</th>\n",
       "    </tr>\n",
       "    <tr>\n",
       "      <th>key</th>\n",
       "      <th></th>\n",
       "      <th></th>\n",
       "      <th></th>\n",
       "      <th></th>\n",
       "      <th></th>\n",
       "      <th></th>\n",
       "      <th></th>\n",
       "      <th></th>\n",
       "      <th></th>\n",
       "      <th></th>\n",
       "      <th></th>\n",
       "      <th></th>\n",
       "      <th></th>\n",
       "      <th></th>\n",
       "      <th></th>\n",
       "    </tr>\n",
       "  </thead>\n",
       "  <tbody>\n",
       "    <tr>\n",
       "      <th>30075445_31-01-23_10D</th>\n",
       "      <td>0.609112</td>\n",
       "      <td>0.754557</td>\n",
       "      <td>0.791582</td>\n",
       "      <td>0.611277</td>\n",
       "      <td>0.444058</td>\n",
       "      <td>0.435218</td>\n",
       "      <td>0.0</td>\n",
       "      <td>0.888889</td>\n",
       "      <td>0.0</td>\n",
       "      <td>0.252874</td>\n",
       "      <td>0.000000</td>\n",
       "      <td>1.0</td>\n",
       "      <td>0.0</td>\n",
       "      <td>0.000000</td>\n",
       "      <td>3.828669e-16</td>\n",
       "    </tr>\n",
       "    <tr>\n",
       "      <th>30075445_31-01-23_06D</th>\n",
       "      <td>0.609112</td>\n",
       "      <td>0.754557</td>\n",
       "      <td>0.791582</td>\n",
       "      <td>0.611277</td>\n",
       "      <td>0.444058</td>\n",
       "      <td>0.435218</td>\n",
       "      <td>0.0</td>\n",
       "      <td>0.888889</td>\n",
       "      <td>0.0</td>\n",
       "      <td>0.139573</td>\n",
       "      <td>0.384615</td>\n",
       "      <td>1.0</td>\n",
       "      <td>0.0</td>\n",
       "      <td>0.066933</td>\n",
       "      <td>1.000000e+00</td>\n",
       "    </tr>\n",
       "    <tr>\n",
       "      <th>30075445_31-01-23_04N</th>\n",
       "      <td>0.609112</td>\n",
       "      <td>0.754557</td>\n",
       "      <td>0.791582</td>\n",
       "      <td>0.611277</td>\n",
       "      <td>0.444058</td>\n",
       "      <td>0.435218</td>\n",
       "      <td>0.0</td>\n",
       "      <td>0.888889</td>\n",
       "      <td>0.0</td>\n",
       "      <td>0.270936</td>\n",
       "      <td>0.923077</td>\n",
       "      <td>1.0</td>\n",
       "      <td>0.0</td>\n",
       "      <td>0.073791</td>\n",
       "      <td>1.000000e+00</td>\n",
       "    </tr>\n",
       "  </tbody>\n",
       "</table>\n",
       "</div>"
      ],
      "text/plain": [
       "                            dba  building    street   zipcode  \\\n",
       "key                                                             \n",
       "30075445_31-01-23_10D  0.609112  0.754557  0.791582  0.611277   \n",
       "30075445_31-01-23_06D  0.609112  0.754557  0.791582  0.611277   \n",
       "30075445_31-01-23_04N  0.609112  0.754557  0.791582  0.611277   \n",
       "\n",
       "                       cuisine_description     score  inspection_month  \\\n",
       "key                                                                      \n",
       "30075445_31-01-23_10D             0.444058  0.435218               0.0   \n",
       "30075445_31-01-23_06D             0.444058  0.435218               0.0   \n",
       "30075445_31-01-23_04N             0.444058  0.435218               0.0   \n",
       "\n",
       "                       inspection_year  inspection_type_other  \\\n",
       "key                                                             \n",
       "30075445_31-01-23_10D         0.888889                    0.0   \n",
       "30075445_31-01-23_06D         0.888889                    0.0   \n",
       "30075445_31-01-23_04N         0.888889                    0.0   \n",
       "\n",
       "                       desc_length_chars  critical_token_count  \\\n",
       "key                                                              \n",
       "30075445_31-01-23_10D           0.252874              0.000000   \n",
       "30075445_31-01-23_06D           0.139573              0.384615   \n",
       "30075445_31-01-23_04N           0.270936              0.923077   \n",
       "\n",
       "                       negative_sentiment  tfidf_cleaning  tfidf_food  \\\n",
       "key                                                                     \n",
       "30075445_31-01-23_10D                 1.0             0.0    0.000000   \n",
       "30075445_31-01-23_06D                 1.0             0.0    0.066933   \n",
       "30075445_31-01-23_04N                 1.0             0.0    0.073791   \n",
       "\n",
       "                       violation_code  \n",
       "key                                    \n",
       "30075445_31-01-23_10D    3.828669e-16  \n",
       "30075445_31-01-23_06D    1.000000e+00  \n",
       "30075445_31-01-23_04N    1.000000e+00  "
      ]
     },
     "metadata": {},
     "output_type": "display_data"
    }
   ],
   "source": [
    "# import data\n",
    "processed_train = pd.read_csv(join(processed_data_path, 'processed_train.csv')).set_index('key')\n",
    "processed_val = pd.read_csv(join(processed_data_path, 'processed_val.csv')).set_index('key')\n",
    "processed_test = pd.read_csv(join(processed_data_path, 'processed_test.csv')).set_index('key')\n",
    "\n",
    "# separate target and features\n",
    "target_feature = 'critical_flag'\n",
    "\n",
    "X_train = processed_train.drop(target_feature, axis=1)\n",
    "y_train = processed_train[target_feature]\n",
    "\n",
    "X_val = processed_val.drop(target_feature, axis=1)\n",
    "y_val = processed_val[target_feature]\n",
    "\n",
    "X_test = processed_test.drop(target_feature, axis=1)\n",
    "y_test = processed_test[target_feature]\n",
    "\n",
    "\n",
    "full_len = len(X_train) + len(X_val) + len(X_test)\n",
    "print(\n",
    "    f'Train: {X_train.shape} -> {round(len(X_train)/full_len*100)}%',\n",
    "    f'\\nValidation: {X_val.shape} -> {round(len(X_val)/full_len*100)}%'\n",
    "    f'\\nTest: {X_test.shape} -> {round(len(X_test)/full_len*100)}%',\n",
    ")\n",
    "\n",
    "display(X_train.head(3))"
   ]
  },
  {
   "cell_type": "code",
   "execution_count": 3,
   "metadata": {},
   "outputs": [],
   "source": [
    "# separate X sets per scenario\n",
    "X_train_1 = X_train.copy().drop(columns=['violation_code'])\n",
    "X_val_1 = X_val.copy().drop(columns=['violation_code'])\n",
    "X_test_1 = X_test.copy().drop(columns=['violation_code'])\n",
    "\n",
    "X_train_2 = X_train.copy()\n",
    "X_val_2 = X_val.copy()\n",
    "X_test_2 = X_test.copy()"
   ]
  },
  {
   "cell_type": "markdown",
   "metadata": {},
   "source": [
    "### Baseline Models"
   ]
  },
  {
   "cell_type": "code",
   "execution_count": 4,
   "metadata": {},
   "outputs": [],
   "source": [
    "def classification_model_df(model_list, X_val, y_val):\n",
    "    '''\n",
    "    Creates a DataFrame with classification metrics for each model.\n",
    "\n",
    "    Args:\n",
    "        model_list (list): List of fitted model instances\n",
    "        tree_list (list): List of tree-based models (use raw features)\n",
    "        train (DataFrame): Training features\n",
    "        test (DataFrame): Test features (raw)\n",
    "        scaled_test (DataFrame): Scaled test features\n",
    "        target_test (Series): True labels for test set\n",
    "\n",
    "    Returns:\n",
    "        DataFrame: Classification metrics per model\n",
    "    '''\n",
    "    \n",
    "    df = pd.DataFrame(columns=['Model', 'Accuracy', 'Recall', 'Precision', 'F1', 'ROC AUC'])\n",
    "\n",
    "    for i, model in enumerate(model_list):\n",
    "        try:\n",
    "\n",
    "            # Predict\n",
    "            y_pred = model.predict(X_val)\n",
    "\n",
    "            # Compute metrics\n",
    "            accuracy = accuracy_score(y_val, y_pred)\n",
    "            recall = recall_score(y_val, y_pred)\n",
    "            precision = precision_score(y_val, y_pred)\n",
    "            f1 = f1_score(y_val, y_pred)\n",
    "            roc = roc_auc_score(y_val, y_pred)\n",
    "\n",
    "            df.loc[i] = [\n",
    "                model.__class__.__name__,\n",
    "                round(accuracy, 4),\n",
    "                round(recall, 4),\n",
    "                round(precision, 4),\n",
    "                round(f1, 4),\n",
    "                round(roc, 4)\n",
    "            ]\n",
    "\n",
    "        except Exception as e:\n",
    "            print(f'Error with {model.__class__.__name__}:\\n{e}')\n",
    "\n",
    "    return df.sort_values(by='F1', ascending=False).reset_index(drop=True)"
   ]
  },
  {
   "cell_type": "code",
   "execution_count": 39,
   "metadata": {},
   "outputs": [],
   "source": [
    "# model set\n",
    "seed = 42\n",
    "\n",
    "LR_1 = LogisticRegression(random_state=seed).fit(X_train_1, y_train)\n",
    "DT_1 = DecisionTreeClassifier(random_state=seed).fit(X_train_1, y_train)\n",
    "RF_1 = RandomForestClassifier(random_state=seed).fit(X_train_1, y_train)\n",
    "GB_1 = GradientBoostingClassifier(random_state=seed).fit(X_train_1, y_train)\n",
    "\n",
    "LR_2 = LogisticRegression(random_state=seed).fit(X_train_2, y_train)\n",
    "DT_2 = DecisionTreeClassifier(random_state=seed).fit(X_train_2, y_train)\n",
    "RF_2 = RandomForestClassifier(random_state=seed).fit(X_train_2, y_train)\n",
    "GB_2 = GradientBoostingClassifier(random_state=seed).fit(X_train_2, y_train)"
   ]
  },
  {
   "cell_type": "code",
   "execution_count": 40,
   "metadata": {},
   "outputs": [
    {
     "name": "stdout",
     "output_type": "stream",
     "text": [
      "Validation Baseline Models Results for Scenario 1 (without violation_code)\n"
     ]
    },
    {
     "data": {
      "text/html": [
       "<div>\n",
       "<style scoped>\n",
       "    .dataframe tbody tr th:only-of-type {\n",
       "        vertical-align: middle;\n",
       "    }\n",
       "\n",
       "    .dataframe tbody tr th {\n",
       "        vertical-align: top;\n",
       "    }\n",
       "\n",
       "    .dataframe thead th {\n",
       "        text-align: right;\n",
       "    }\n",
       "</style>\n",
       "<table border=\"1\" class=\"dataframe\">\n",
       "  <thead>\n",
       "    <tr style=\"text-align: right;\">\n",
       "      <th></th>\n",
       "      <th>Model</th>\n",
       "      <th>Accuracy</th>\n",
       "      <th>Recall</th>\n",
       "      <th>Precision</th>\n",
       "      <th>F1</th>\n",
       "      <th>ROC AUC</th>\n",
       "    </tr>\n",
       "  </thead>\n",
       "  <tbody>\n",
       "    <tr>\n",
       "      <th>0</th>\n",
       "      <td>GradientBoostingClassifier</td>\n",
       "      <td>0.9958</td>\n",
       "      <td>0.9948</td>\n",
       "      <td>0.9979</td>\n",
       "      <td>0.9963</td>\n",
       "      <td>0.9960</td>\n",
       "    </tr>\n",
       "    <tr>\n",
       "      <th>1</th>\n",
       "      <td>DecisionTreeClassifier</td>\n",
       "      <td>0.9874</td>\n",
       "      <td>0.9990</td>\n",
       "      <td>0.9794</td>\n",
       "      <td>0.9891</td>\n",
       "      <td>0.9855</td>\n",
       "    </tr>\n",
       "    <tr>\n",
       "      <th>2</th>\n",
       "      <td>RandomForestClassifier</td>\n",
       "      <td>0.9848</td>\n",
       "      <td>0.9933</td>\n",
       "      <td>0.9804</td>\n",
       "      <td>0.9868</td>\n",
       "      <td>0.9835</td>\n",
       "    </tr>\n",
       "    <tr>\n",
       "      <th>3</th>\n",
       "      <td>LogisticRegression</td>\n",
       "      <td>0.9213</td>\n",
       "      <td>0.9005</td>\n",
       "      <td>0.9590</td>\n",
       "      <td>0.9289</td>\n",
       "      <td>0.9247</td>\n",
       "    </tr>\n",
       "  </tbody>\n",
       "</table>\n",
       "</div>"
      ],
      "text/plain": [
       "                        Model  Accuracy  Recall  Precision      F1  ROC AUC\n",
       "0  GradientBoostingClassifier    0.9958  0.9948     0.9979  0.9963   0.9960\n",
       "1      DecisionTreeClassifier    0.9874  0.9990     0.9794  0.9891   0.9855\n",
       "2      RandomForestClassifier    0.9848  0.9933     0.9804  0.9868   0.9835\n",
       "3          LogisticRegression    0.9213  0.9005     0.9590  0.9289   0.9247"
      ]
     },
     "metadata": {},
     "output_type": "display_data"
    },
    {
     "name": "stdout",
     "output_type": "stream",
     "text": [
      "Validation Baseline Models Results for Scenario 2 (with violation_code)\n"
     ]
    },
    {
     "data": {
      "text/html": [
       "<div>\n",
       "<style scoped>\n",
       "    .dataframe tbody tr th:only-of-type {\n",
       "        vertical-align: middle;\n",
       "    }\n",
       "\n",
       "    .dataframe tbody tr th {\n",
       "        vertical-align: top;\n",
       "    }\n",
       "\n",
       "    .dataframe thead th {\n",
       "        text-align: right;\n",
       "    }\n",
       "</style>\n",
       "<table border=\"1\" class=\"dataframe\">\n",
       "  <thead>\n",
       "    <tr style=\"text-align: right;\">\n",
       "      <th></th>\n",
       "      <th>Model</th>\n",
       "      <th>Accuracy</th>\n",
       "      <th>Recall</th>\n",
       "      <th>Precision</th>\n",
       "      <th>F1</th>\n",
       "      <th>ROC AUC</th>\n",
       "    </tr>\n",
       "  </thead>\n",
       "  <tbody>\n",
       "    <tr>\n",
       "      <th>0</th>\n",
       "      <td>RandomForestClassifier</td>\n",
       "      <td>0.9993</td>\n",
       "      <td>0.9988</td>\n",
       "      <td>1.0000</td>\n",
       "      <td>0.9994</td>\n",
       "      <td>0.9994</td>\n",
       "    </tr>\n",
       "    <tr>\n",
       "      <th>1</th>\n",
       "      <td>DecisionTreeClassifier</td>\n",
       "      <td>0.9992</td>\n",
       "      <td>0.9991</td>\n",
       "      <td>0.9994</td>\n",
       "      <td>0.9993</td>\n",
       "      <td>0.9992</td>\n",
       "    </tr>\n",
       "    <tr>\n",
       "      <th>2</th>\n",
       "      <td>LogisticRegression</td>\n",
       "      <td>0.9990</td>\n",
       "      <td>0.9982</td>\n",
       "      <td>1.0000</td>\n",
       "      <td>0.9991</td>\n",
       "      <td>0.9991</td>\n",
       "    </tr>\n",
       "    <tr>\n",
       "      <th>3</th>\n",
       "      <td>GradientBoostingClassifier</td>\n",
       "      <td>0.9990</td>\n",
       "      <td>0.9991</td>\n",
       "      <td>0.9990</td>\n",
       "      <td>0.9991</td>\n",
       "      <td>0.9989</td>\n",
       "    </tr>\n",
       "  </tbody>\n",
       "</table>\n",
       "</div>"
      ],
      "text/plain": [
       "                        Model  Accuracy  Recall  Precision      F1  ROC AUC\n",
       "0      RandomForestClassifier    0.9993  0.9988     1.0000  0.9994   0.9994\n",
       "1      DecisionTreeClassifier    0.9992  0.9991     0.9994  0.9993   0.9992\n",
       "2          LogisticRegression    0.9990  0.9982     1.0000  0.9991   0.9991\n",
       "3  GradientBoostingClassifier    0.9990  0.9991     0.9990  0.9991   0.9989"
      ]
     },
     "metadata": {},
     "output_type": "display_data"
    }
   ],
   "source": [
    "model_list_1 = [LR_1, DT_1, RF_1, GB_1]\n",
    "model_list_2 = [LR_2, DT_2, RF_2, GB_2]\n",
    "\n",
    "# baseline\n",
    "print('Validation Baseline Models Results for Scenario 1 (without violation_code)')\n",
    "baseline_1 = classification_model_df(model_list_1, X_val=X_val_1, y_val=y_val)\n",
    "display(baseline_1)\n",
    "\n",
    "print('Validation Baseline Models Results for Scenario 2 (with violation_code)')\n",
    "baseline_2 = classification_model_df(model_list_2, X_val=X_val_2, y_val=y_val)\n",
    "display(baseline_2)"
   ]
  },
  {
   "cell_type": "markdown",
   "metadata": {},
   "source": [
    "### Hyperparameter Tuning"
   ]
  },
  {
   "cell_type": "markdown",
   "metadata": {},
   "source": [
    "Results were similar, but almost perfect with `violation_code` and slightly better than without, as expected. Let's dive further."
   ]
  },
  {
   "cell_type": "code",
   "execution_count": 7,
   "metadata": {},
   "outputs": [],
   "source": [
    "def get_classification_metrics(model, train_x, test_x, val_x, train_y, test_y, val_y): \n",
    "    ''' \n",
    "    Gets classification metrics for train, validation, and test sets\n",
    "    '''\n",
    "    pred_train = model.predict(train_x)\n",
    "    pred_val = model.predict(val_x)\n",
    "    pred_test = model.predict(test_x)\n",
    "\n",
    "    # train metrics\n",
    "    train_acc = accuracy_score(train_y, pred_train)\n",
    "    train_precision = precision_score(train_y, pred_train)\n",
    "    train_recall = recall_score(train_y, pred_train)\n",
    "    train_f1 = f1_score(train_y, pred_train)\n",
    "    train_roc = roc_auc_score(train_y, pred_train)\n",
    "\n",
    "    # validation metrics\n",
    "    val_acc = accuracy_score(val_y, pred_val)\n",
    "    val_precision = precision_score(val_y, pred_val)\n",
    "    val_recall = recall_score(val_y, pred_val)\n",
    "    val_f1 = f1_score(val_y, pred_val)\n",
    "    val_roc = roc_auc_score(val_y, pred_val)\n",
    "\n",
    "    # test metrics\n",
    "    test_acc = accuracy_score(test_y, pred_test)\n",
    "    test_precision = precision_score(test_y, pred_test)\n",
    "    test_recall = recall_score(test_y, pred_test)\n",
    "    test_f1 = f1_score(test_y, pred_test)\n",
    "    test_roc = roc_auc_score(test_y, pred_test)\n",
    "\n",
    "    metrics_df = pd.DataFrame({\n",
    "        'Metric': ['Accuracy', 'Precision', 'Recall', 'F1', 'ROC AUC'],\n",
    "        'Train': [train_acc, train_precision, train_recall, train_f1, train_roc],\n",
    "        'Validation': [val_acc, val_precision, val_recall, val_f1, val_roc],\n",
    "        'Test': [test_acc, test_precision, test_recall, test_f1, test_roc]\n",
    "    })\n",
    "\n",
    "    return metrics_df\n",
    "\n",
    "def grid_best_params(model, model_params):\n",
    "    '''\n",
    "    Returns Grid Search best parameters for input classification model  \n",
    "    \n",
    "    Args:\n",
    "        model (sklearn classifier)\n",
    "        model_params (dict)\n",
    "    \n",
    "    Returns: \n",
    "        dict - best parameters\n",
    "    '''\n",
    "    grid_search = GridSearchCV(model, model_params, cv=3, scoring='f1', verbose=True, n_jobs=-1)\n",
    "    grid_search.fit(X_train, y_train)\n",
    "    return grid_search.best_params_\n",
    "\n",
    "def manual_tuning(model, parameter, values_range, train_X, train_y, test_X, test_y):\n",
    "    train_results = []\n",
    "    test_results = []\n",
    "    \n",
    "    current_best_score = -1\n",
    "    best_test_value = None\n",
    "\n",
    "    for val in values_range:\n",
    "        params = {parameter: val}\n",
    "        instance = model.set_params(**params)\n",
    "        instance.fit(train_X, train_y)\n",
    "\n",
    "        train_pred = instance.predict(train_X)\n",
    "        test_pred = instance.predict(test_X)\n",
    "\n",
    "        train_score = f1_score(train_y, train_pred)\n",
    "        test_score = f1_score(test_y, test_pred)\n",
    "\n",
    "        train_results.append(train_score)\n",
    "        test_results.append(test_score)\n",
    "\n",
    "        if test_score > current_best_score:\n",
    "            best_test_value = val\n",
    "            current_best_score = test_score\n",
    "\n",
    "    parameter_name = parameter.replace('_', ' ').capitalize()\n",
    "    print(f'The best value for \\033[1m{parameter_name} is {best_test_value} with F1 Score: {round(current_best_score, 3)}')\n",
    "\n",
    "    plt.figure(figsize=(10, 5))\n",
    "    plt.plot(values_range, train_results, 'gray', label='Train F1-Score', linewidth=3)\n",
    "    plt.plot(values_range, test_results, 'yellowgreen', label='Test F1-Score', linewidth=3)\n",
    "    plt.vlines(x=best_test_value, ymin=min(train_results + test_results), \n",
    "                ymax=max(train_results + test_results), colors='red', linestyle='--', label='Best F1')\n",
    "\n",
    "    plt.xticks(values_range)\n",
    "    plt.ylabel('F1-Score', fontweight='bold', fontsize=10)\n",
    "    plt.xlabel(parameter_name, fontweight='bold', fontsize=15)\n",
    "    plt.legend(fontsize=10)\n",
    "    plt.grid(linewidth=.35)\n",
    "    sns.despine()\n",
    "    plt.show()\n",
    "\n",
    "    return best_test_value\n",
    "\n",
    "def cv_manual_tuning(model, parameter, values_range, train_X, train_y, val_X, val_y):\n",
    "    kf = KFold(n_splits=5, shuffle=True, random_state=42)\n",
    "    train_results = []\n",
    "    test_results = []\n",
    "    \n",
    "    current_best_score = -1\n",
    "    best_test_value = None\n",
    "\n",
    "    for val in values_range:\n",
    "        params = {parameter: val}\n",
    "        instance = model.set_params(**params)\n",
    "\n",
    "        fold_train_scores = []\n",
    "        fold_test_scores = []\n",
    "\n",
    "        for train_idx, val_idx in kf.split(val_X):\n",
    "            X_train_fold, X_val_fold = val_X.iloc[train_idx], val_X.iloc[val_idx]\n",
    "            y_train_fold, y_val_fold = val_y.iloc[train_idx], val_y.iloc[val_idx]\n",
    "\n",
    "            instance.fit(X_train_fold, y_train_fold)\n",
    "\n",
    "            train_pred = instance.predict(X_train_fold)\n",
    "            val_pred = instance.predict(X_val_fold)\n",
    "\n",
    "            train_score = f1_score(y_train_fold, train_pred)\n",
    "            val_score = f1_score(y_val_fold, val_pred)\n",
    "\n",
    "            fold_train_scores.append(train_score)\n",
    "            fold_test_scores.append(val_score)\n",
    "\n",
    "        mean_train_score = np.mean(fold_train_scores)\n",
    "        mean_test_score = np.mean(fold_test_scores)\n",
    "\n",
    "        train_results.append(mean_train_score)\n",
    "        test_results.append(mean_test_score)\n",
    "\n",
    "        if mean_test_score > current_best_score:\n",
    "            best_test_value = val\n",
    "            current_best_score = mean_test_score\n",
    "\n",
    "    parameter_name = parameter.replace('_', ' ').capitalize()\n",
    "    print(f'The best value for \\033[1m{parameter_name} is {best_test_value} with F1 Score: {round(current_best_score, 3)}')\n",
    "\n",
    "    plt.figure(figsize=(10, 5))\n",
    "    values_range = ['none' if v is None else v for v in values_range]\n",
    "\n",
    "    plt.plot(values_range, train_results, 'gray', label='Train F1-Score', linewidth=3)\n",
    "    plt.plot(values_range, test_results, 'yellowgreen', label='Validation F1-Score', linewidth=3)\n",
    "    plt.vlines(x=best_test_value, ymin=min(train_results + test_results), \n",
    "                ymax=max(train_results + test_results), colors='red', linestyle='--', label='Best F1')\n",
    "\n",
    "    plt.xticks(values_range)\n",
    "    plt.ylabel('F1-Score', fontweight='bold', fontsize=10)\n",
    "    plt.xlabel(parameter_name, fontweight='bold', fontsize=15)\n",
    "    plt.legend(fontsize=10)\n",
    "    plt.grid(linewidth=.35)\n",
    "    sns.despine()\n",
    "    plt.show()\n",
    "\n",
    "    return best_test_value\n"
   ]
  },
  {
   "cell_type": "code",
   "execution_count": 62,
   "metadata": {},
   "outputs": [],
   "source": [
    "def tune_model_optuna(\n",
    "    model_key,\n",
    "    X_train, y_train,\n",
    "    X_val,   y_val,\n",
    "    n_trials=50,\n",
    "    random_state=42\n",
    "):\n",
    "    \"\"\"\n",
    "    Run Optuna to maximize F1 on a held‐out validation set.\n",
    "\n",
    "    Args:\n",
    "        model_key (str): One of ['lr','dt','rf','gb']\n",
    "        X_train, y_train: Training features & labels\n",
    "        X_val,   y_val:   Validation features & labels\n",
    "        n_trials (int):   Number of Optuna trials\n",
    "        random_state (int): Seed for reproducibility\n",
    "\n",
    "    Returns:\n",
    "        dict: best_params\n",
    "        float: best F1 on validation set\n",
    "    \"\"\"\n",
    "\n",
    "    def objective(trial):\n",
    "        # --- define hyper‐parameter search space per model ---\n",
    "        if model_key == 'lr':\n",
    "            model = LogisticRegression(\n",
    "                C=trial.suggest_loguniform('C', 1e-4, 1e2),\n",
    "                penalty=trial.suggest_categorical('penalty', ['l1', 'l2', None]),\n",
    "                solver='saga',\n",
    "                random_state=random_state,\n",
    "                max_iter=10_000,\n",
    "                n_jobs=-1\n",
    "            )\n",
    "\n",
    "        elif model_key == 'dt':\n",
    "            model = DecisionTreeClassifier(\n",
    "                max_depth=trial.suggest_categorical('max_depth', [None, 5, 10, 15, 20, 30, 50, 70, 100]),\n",
    "                max_features=trial.suggest_categorical('max_features', ['sqrt', 'log2', None]),\n",
    "                min_samples_split=trial.suggest_int('min_samples_split', 2, 20),\n",
    "                min_samples_leaf=trial.suggest_int('min_samples_leaf', 1, 13),\n",
    "                splitter=trial.suggest_categorical('splitter', ['best', 'random']),\n",
    "                criterion=trial.suggest_categorical('criterion', ['gini', 'entropy']),\n",
    "                random_state=random_state\n",
    "            )\n",
    "\n",
    "        elif model_key == 'rf':\n",
    "            model = RandomForestClassifier(\n",
    "                n_estimators=trial.suggest_int('n_estimators', 50, 500),\n",
    "                max_depth=trial.suggest_categorical('max_depth', [None] + list(range(1,16))),\n",
    "                max_features=trial.suggest_categorical('max_features', ['sqrt', 'log2', None]),\n",
    "                min_samples_split=trial.suggest_int('min_samples_split', 2, 10),\n",
    "                min_samples_leaf=trial.suggest_int('min_samples_leaf', 1, 13),\n",
    "                criterion=trial.suggest_categorical('criterion', ['gini', 'entropy']),\n",
    "                random_state=random_state,\n",
    "                n_jobs=-1\n",
    "            )\n",
    "\n",
    "        elif model_key == 'gb':\n",
    "            model = GradientBoostingClassifier(\n",
    "                n_estimators=trial.suggest_categorical('n_estimators', list(range(700, 1100, 100))),\n",
    "                max_depth=trial.suggest_int('max_depth', 2, 10),\n",
    "                min_samples_leaf=trial.suggest_categorical('min_samples_leaf', list(range(2, 42, 10))),\n",
    "                min_samples_split=trial.suggest_categorical('min_samples_split', list(range(2, 252, 50))),\n",
    "                max_features=trial.suggest_categorical('max_features', [None, 'sqrt', 'log2']),\n",
    "                subsample=trial.suggest_uniform('subsample', 0.8, 1.0),\n",
    "                learning_rate=trial.suggest_categorical('learning_rate', [0.1, 0.05]),\n",
    "                random_state=random_state\n",
    "            )\n",
    "        \n",
    "        else:\n",
    "            raise ValueError(f'Unknown model_key: {model_key}')\n",
    "\n",
    "        # --- train on train set, evaluate on val set ---\n",
    "        model.fit(X_train, y_train)\n",
    "        preds = model.predict(X_val)\n",
    "        return f1_score(y_val, preds)\n",
    "\n",
    "    # create and run study\n",
    "    study = optuna.create_study(\n",
    "        sampler=optuna.samplers.TPESampler(seed=random_state),\n",
    "        direction='maximize'\n",
    "    )\n",
    "    study.optimize(objective, n_trials=n_trials, show_progress_bar=True)\n",
    "\n",
    "    return study.best_params, study.best_value"
   ]
  },
  {
   "cell_type": "markdown",
   "metadata": {},
   "source": [
    "#### Scenario 1"
   ]
  },
  {
   "cell_type": "code",
   "execution_count": null,
   "metadata": {},
   "outputs": [
    {
     "name": "stderr",
     "output_type": "stream",
     "text": [
      "[I 2025-06-10 14:16:58,876] A new study created in memory with name: no-name-b9be27e3-5abd-446e-915a-4f8d2f2bf4d0\n"
     ]
    },
    {
     "data": {
      "application/vnd.jupyter.widget-view+json": {
       "model_id": "a2d537ab352947ac8951f6df26001333",
       "version_major": 2,
       "version_minor": 0
      },
      "text/plain": [
       "  0%|          | 0/20 [00:00<?, ?it/s]"
      ]
     },
     "metadata": {},
     "output_type": "display_data"
    },
    {
     "name": "stdout",
     "output_type": "stream",
     "text": [
      "[I 2025-06-10 14:16:59,134] Trial 0 finished with value: 0.9263531499556344 and parameters: {'C': 0.017670169402947963, 'penalty': 'l1'}. Best is trial 0 with value: 0.9263531499556344.\n",
      "[I 2025-06-10 14:17:09,636] Trial 1 finished with value: 0.9421570470639845 and parameters: {'C': 0.0008632008168602552, 'penalty': None}. Best is trial 1 with value: 0.9421570470639845.\n",
      "[I 2025-06-10 14:17:20,082] Trial 2 finished with value: 0.9421570470639845 and parameters: {'C': 0.4042872735027334, 'penalty': None}. Best is trial 1 with value: 0.9421570470639845.\n",
      "[I 2025-06-10 14:17:30,966] Trial 3 finished with value: 0.9422160942592128 and parameters: {'C': 9.877700294007917, 'penalty': 'l1'}. Best is trial 3 with value: 0.9422160942592128.\n",
      "[I 2025-06-10 14:17:31,377] Trial 4 finished with value: 0.9241042763580326 and parameters: {'C': 0.006690421166498805, 'penalty': 'l1'}. Best is trial 3 with value: 0.9422160942592128.\n",
      "[I 2025-06-10 14:17:42,716] Trial 5 finished with value: 0.9421570470639845 and parameters: {'C': 0.46894009635376926, 'penalty': None}. Best is trial 3 with value: 0.9422160942592128.\n",
      "[I 2025-06-10 14:17:43,195] Trial 6 finished with value: 0.9323834520684915 and parameters: {'C': 0.054502936945582545, 'penalty': 'l1'}. Best is trial 3 with value: 0.9422160942592128.\n",
      "[I 2025-06-10 14:17:43,363] Trial 7 finished with value: 0.923028430939923 and parameters: {'C': 0.3584985580340476, 'penalty': 'l2'}. Best is trial 3 with value: 0.9422160942592128.\n",
      "[I 2025-06-10 14:17:43,585] Trial 8 finished with value: 0.7333064985017219 and parameters: {'C': 0.0002456459215250753, 'penalty': 'l2'}. Best is trial 3 with value: 0.9422160942592128.\n",
      "[I 2025-06-10 14:17:43,768] Trial 9 finished with value: 0.8631644389182468 and parameters: {'C': 0.006724850206557251, 'penalty': 'l2'}. Best is trial 3 with value: 0.9422160942592128.\n",
      "[I 2025-06-10 14:17:57,636] Trial 10 finished with value: 0.9421570470639845 and parameters: {'C': 46.86183228417106, 'penalty': 'l1'}. Best is trial 3 with value: 0.9422160942592128.\n",
      "[I 2025-06-10 14:18:08,758] Trial 11 finished with value: 0.9421570470639845 and parameters: {'C': 30.60068906838733, 'penalty': None}. Best is trial 3 with value: 0.9422160942592128.\n",
      "[I 2025-06-10 14:18:19,611] Trial 12 finished with value: 0.9421570470639845 and parameters: {'C': 0.00012365350297116316, 'penalty': None}. Best is trial 3 with value: 0.9422160942592128.\n",
      "[I 2025-06-10 14:18:28,111] Trial 13 finished with value: 0.9420980072690813 and parameters: {'C': 4.2042731943392715, 'penalty': 'l1'}. Best is trial 3 with value: 0.9422160942592128.\n",
      "[I 2025-06-10 14:18:39,186] Trial 14 finished with value: 0.9421570470639845 and parameters: {'C': 0.0013636237949595583, 'penalty': None}. Best is trial 3 with value: 0.9422160942592128.\n",
      "[I 2025-06-10 14:18:47,211] Trial 15 finished with value: 0.9420980072690813 and parameters: {'C': 3.6479922229124155, 'penalty': 'l1'}. Best is trial 3 with value: 0.9422160942592128.\n",
      "[I 2025-06-10 14:18:58,331] Trial 16 finished with value: 0.9421570470639845 and parameters: {'C': 6.1607024857550154, 'penalty': None}. Best is trial 3 with value: 0.9422160942592128.\n",
      "[I 2025-06-10 14:18:58,532] Trial 17 finished with value: 0.9056076631410896 and parameters: {'C': 0.0010675946792710615, 'penalty': 'l1'}. Best is trial 3 with value: 0.9422160942592128.\n",
      "[I 2025-06-10 14:19:09,896] Trial 18 finished with value: 0.9421570470639845 and parameters: {'C': 0.045088514578577384, 'penalty': None}. Best is trial 3 with value: 0.9422160942592128.\n"
     ]
    },
    {
     "name": "stderr",
     "output_type": "stream",
     "text": [
      "[I 2025-06-10 14:19:10,138] A new study created in memory with name: no-name-7d81743c-ef4d-4c78-882c-ea655f424743\n"
     ]
    },
    {
     "name": "stdout",
     "output_type": "stream",
     "text": [
      "[I 2025-06-10 14:19:10,137] Trial 19 finished with value: 0.8302036199095023 and parameters: {'C': 0.0009063906295520836, 'penalty': 'l2'}. Best is trial 3 with value: 0.9422160942592128.\n"
     ]
    },
    {
     "data": {
      "application/vnd.jupyter.widget-view+json": {
       "model_id": "0a11c5eb9a8d4fdba39c8901776a7288",
       "version_major": 2,
       "version_minor": 0
      },
      "text/plain": [
       "  0%|          | 0/50 [00:00<?, ?it/s]"
      ]
     },
     "metadata": {},
     "output_type": "display_data"
    },
    {
     "name": "stdout",
     "output_type": "stream",
     "text": [
      "[I 2025-06-10 14:19:10,175] Trial 0 finished with value: 0.9219765076448586 and parameters: {'max_depth': 5, 'max_features': None, 'min_samples_split': 17, 'min_samples_leaf': 3, 'splitter': 'random', 'criterion': 'entropy'}. Best is trial 0 with value: 0.9219765076448586.\n",
      "[I 2025-06-10 14:19:10,209] Trial 1 finished with value: 0.9421215994157386 and parameters: {'max_depth': 70, 'max_features': 'log2', 'min_samples_split': 13, 'min_samples_leaf': 3, 'splitter': 'random', 'criterion': 'gini'}. Best is trial 1 with value: 0.9421215994157386.\n",
      "[I 2025-06-10 14:19:10,277] Trial 2 finished with value: 0.9603701945894637 and parameters: {'max_depth': 70, 'max_features': 'sqrt', 'min_samples_split': 12, 'min_samples_leaf': 3, 'splitter': 'best', 'criterion': 'gini'}. Best is trial 2 with value: 0.9603701945894637.\n",
      "[I 2025-06-10 14:19:10,303] Trial 3 finished with value: 0.9219765076448586 and parameters: {'max_depth': 5, 'max_features': None, 'min_samples_split': 4, 'min_samples_leaf': 11, 'splitter': 'random', 'criterion': 'gini'}. Best is trial 2 with value: 0.9603701945894637.\n",
      "[I 2025-06-10 14:19:10,381] Trial 4 finished with value: 0.9527737924438068 and parameters: {'max_depth': 100, 'max_features': 'sqrt', 'min_samples_split': 7, 'min_samples_leaf': 5, 'splitter': 'best', 'criterion': 'gini'}. Best is trial 2 with value: 0.9603701945894637.\n",
      "[I 2025-06-10 14:19:10,497] Trial 5 finished with value: 0.9990863129682646 and parameters: {'max_depth': 20, 'max_features': None, 'min_samples_split': 7, 'min_samples_leaf': 7, 'splitter': 'best', 'criterion': 'entropy'}. Best is trial 5 with value: 0.9990863129682646.\n",
      "[I 2025-06-10 14:19:10,555] Trial 6 finished with value: 0.9831830368023398 and parameters: {'max_depth': 20, 'max_features': 'log2', 'min_samples_split': 17, 'min_samples_leaf': 12, 'splitter': 'best', 'criterion': 'entropy'}. Best is trial 5 with value: 0.9990863129682646.\n",
      "[I 2025-06-10 14:19:10,723] Trial 7 finished with value: 0.9909420289855072 and parameters: {'max_depth': 100, 'max_features': None, 'min_samples_split': 8, 'min_samples_leaf': 13, 'splitter': 'best', 'criterion': 'gini'}. Best is trial 5 with value: 0.9990863129682646.\n",
      "[I 2025-06-10 14:19:10,752] Trial 8 finished with value: 0.9133397083432943 and parameters: {'max_depth': 50, 'max_features': 'log2', 'min_samples_split': 14, 'min_samples_leaf': 10, 'splitter': 'random', 'criterion': 'entropy'}. Best is trial 5 with value: 0.9990863129682646.\n",
      "[I 2025-06-10 14:19:10,822] Trial 9 finished with value: 0.9677891654465594 and parameters: {'max_depth': 15, 'max_features': 'log2', 'min_samples_split': 14, 'min_samples_leaf': 3, 'splitter': 'best', 'criterion': 'gini'}. Best is trial 5 with value: 0.9990863129682646.\n",
      "[I 2025-06-10 14:19:10,943] Trial 10 finished with value: 0.9990863129682646 and parameters: {'max_depth': 20, 'max_features': None, 'min_samples_split': 2, 'min_samples_leaf': 8, 'splitter': 'best', 'criterion': 'entropy'}. Best is trial 5 with value: 0.9990863129682646.\n",
      "[I 2025-06-10 14:19:11,065] Trial 11 finished with value: 0.9990863129682646 and parameters: {'max_depth': 20, 'max_features': None, 'min_samples_split': 2, 'min_samples_leaf': 8, 'splitter': 'best', 'criterion': 'entropy'}. Best is trial 5 with value: 0.9990863129682646.\n",
      "[I 2025-06-10 14:19:11,186] Trial 12 finished with value: 0.9990863129682646 and parameters: {'max_depth': 20, 'max_features': None, 'min_samples_split': 6, 'min_samples_leaf': 8, 'splitter': 'best', 'criterion': 'entropy'}. Best is trial 5 with value: 0.9990863129682646.\n",
      "[I 2025-06-10 14:19:11,306] Trial 13 finished with value: 0.9988439306358381 and parameters: {'max_depth': 10, 'max_features': None, 'min_samples_split': 9, 'min_samples_leaf': 7, 'splitter': 'best', 'criterion': 'entropy'}. Best is trial 5 with value: 0.9990863129682646.\n",
      "[I 2025-06-10 14:19:11,427] Trial 14 finished with value: 0.9990863129682646 and parameters: {'max_depth': None, 'max_features': None, 'min_samples_split': 2, 'min_samples_leaf': 6, 'splitter': 'best', 'criterion': 'entropy'}. Best is trial 5 with value: 0.9990863129682646.\n",
      "[I 2025-06-10 14:19:11,552] Trial 15 finished with value: 0.9990863129682646 and parameters: {'max_depth': 30, 'max_features': None, 'min_samples_split': 5, 'min_samples_leaf': 9, 'splitter': 'best', 'criterion': 'entropy'}. Best is trial 5 with value: 0.9990863129682646.\n",
      "[I 2025-06-10 14:19:11,614] Trial 16 finished with value: 0.9575721862109605 and parameters: {'max_depth': 20, 'max_features': 'sqrt', 'min_samples_split': 10, 'min_samples_leaf': 1, 'splitter': 'best', 'criterion': 'entropy'}. Best is trial 5 with value: 0.9990863129682646.\n",
      "[I 2025-06-10 14:19:11,738] Trial 17 finished with value: 0.9986604968339016 and parameters: {'max_depth': 20, 'max_features': None, 'min_samples_split': 4, 'min_samples_leaf': 5, 'splitter': 'best', 'criterion': 'entropy'}. Best is trial 5 with value: 0.9990863129682646.\n",
      "[I 2025-06-10 14:19:11,784] Trial 18 finished with value: 0.9829128369625563 and parameters: {'max_depth': 30, 'max_features': None, 'min_samples_split': 20, 'min_samples_leaf': 10, 'splitter': 'random', 'criterion': 'entropy'}. Best is trial 5 with value: 0.9990863129682646.\n",
      "[I 2025-06-10 14:19:11,851] Trial 19 finished with value: 0.9563849736858024 and parameters: {'max_depth': 15, 'max_features': 'sqrt', 'min_samples_split': 2, 'min_samples_leaf': 7, 'splitter': 'best', 'criterion': 'entropy'}. Best is trial 5 with value: 0.9990863129682646.\n",
      "[I 2025-06-10 14:19:11,971] Trial 20 finished with value: 0.9990863129682646 and parameters: {'max_depth': None, 'max_features': None, 'min_samples_split': 7, 'min_samples_leaf': 6, 'splitter': 'best', 'criterion': 'entropy'}. Best is trial 5 with value: 0.9990863129682646.\n",
      "[I 2025-06-10 14:19:12,094] Trial 21 finished with value: 0.9990863129682646 and parameters: {'max_depth': 20, 'max_features': None, 'min_samples_split': 2, 'min_samples_leaf': 8, 'splitter': 'best', 'criterion': 'entropy'}. Best is trial 5 with value: 0.9990863129682646.\n",
      "[I 2025-06-10 14:19:12,216] Trial 22 finished with value: 0.9990863129682646 and parameters: {'max_depth': 20, 'max_features': None, 'min_samples_split': 4, 'min_samples_leaf': 9, 'splitter': 'best', 'criterion': 'entropy'}. Best is trial 5 with value: 0.9990863129682646.\n",
      "[I 2025-06-10 14:19:12,340] Trial 23 finished with value: 0.9990863129682646 and parameters: {'max_depth': 20, 'max_features': None, 'min_samples_split': 3, 'min_samples_leaf': 8, 'splitter': 'best', 'criterion': 'entropy'}. Best is trial 5 with value: 0.9990863129682646.\n",
      "[I 2025-06-10 14:19:12,462] Trial 24 finished with value: 0.9986604968339016 and parameters: {'max_depth': 50, 'max_features': None, 'min_samples_split': 6, 'min_samples_leaf': 5, 'splitter': 'best', 'criterion': 'entropy'}. Best is trial 5 with value: 0.9990863129682646.\n",
      "[I 2025-06-10 14:19:12,584] Trial 25 finished with value: 0.9988439306358381 and parameters: {'max_depth': 10, 'max_features': None, 'min_samples_split': 5, 'min_samples_leaf': 9, 'splitter': 'best', 'criterion': 'entropy'}. Best is trial 5 with value: 0.9990863129682646.\n",
      "[I 2025-06-10 14:19:12,627] Trial 26 finished with value: 0.9967113276492083 and parameters: {'max_depth': 20, 'max_features': None, 'min_samples_split': 10, 'min_samples_leaf': 6, 'splitter': 'random', 'criterion': 'entropy'}. Best is trial 5 with value: 0.9990863129682646.\n",
      "[I 2025-06-10 14:19:12,748] Trial 27 finished with value: 0.9990863129682646 and parameters: {'max_depth': 20, 'max_features': None, 'min_samples_split': 3, 'min_samples_leaf': 7, 'splitter': 'best', 'criterion': 'entropy'}. Best is trial 5 with value: 0.9990863129682646.\n",
      "[I 2025-06-10 14:19:12,816] Trial 28 finished with value: 0.9526418310202094 and parameters: {'max_depth': 20, 'max_features': 'sqrt', 'min_samples_split': 8, 'min_samples_leaf': 10, 'splitter': 'best', 'criterion': 'entropy'}. Best is trial 5 with value: 0.9990863129682646.\n",
      "[I 2025-06-10 14:19:12,839] Trial 29 finished with value: 0.8145551426768562 and parameters: {'max_depth': 5, 'max_features': 'log2', 'min_samples_split': 5, 'min_samples_leaf': 11, 'splitter': 'random', 'criterion': 'entropy'}. Best is trial 5 with value: 0.9990863129682646.\n",
      "[I 2025-06-10 14:19:12,961] Trial 30 finished with value: 0.9984779299847792 and parameters: {'max_depth': 20, 'max_features': None, 'min_samples_split': 3, 'min_samples_leaf': 4, 'splitter': 'best', 'criterion': 'entropy'}. Best is trial 5 with value: 0.9990863129682646.\n",
      "[I 2025-06-10 14:19:13,085] Trial 31 finished with value: 0.9990863129682646 and parameters: {'max_depth': 20, 'max_features': None, 'min_samples_split': 6, 'min_samples_leaf': 8, 'splitter': 'best', 'criterion': 'entropy'}. Best is trial 5 with value: 0.9990863129682646.\n",
      "[I 2025-06-10 14:19:13,207] Trial 32 finished with value: 0.9990863129682646 and parameters: {'max_depth': 70, 'max_features': None, 'min_samples_split': 6, 'min_samples_leaf': 8, 'splitter': 'best', 'criterion': 'entropy'}. Best is trial 5 with value: 0.9990863129682646.\n",
      "[I 2025-06-10 14:19:13,331] Trial 33 finished with value: 0.9990863129682646 and parameters: {'max_depth': 20, 'max_features': None, 'min_samples_split': 11, 'min_samples_leaf': 7, 'splitter': 'best', 'criterion': 'entropy'}. Best is trial 5 with value: 0.9990863129682646.\n",
      "[I 2025-06-10 14:19:13,375] Trial 34 finished with value: 0.9864165194615337 and parameters: {'max_depth': 70, 'max_features': None, 'min_samples_split': 8, 'min_samples_leaf': 9, 'splitter': 'random', 'criterion': 'gini'}. Best is trial 5 with value: 0.9990863129682646.\n",
      "[I 2025-06-10 14:19:13,483] Trial 35 finished with value: 0.9184220138804334 and parameters: {'max_depth': 5, 'max_features': None, 'min_samples_split': 4, 'min_samples_leaf': 6, 'splitter': 'best', 'criterion': 'gini'}. Best is trial 5 with value: 0.9990863129682646.\n",
      "[I 2025-06-10 14:19:13,554] Trial 36 finished with value: 0.9695066723023972 and parameters: {'max_depth': 20, 'max_features': 'sqrt', 'min_samples_split': 7, 'min_samples_leaf': 8, 'splitter': 'best', 'criterion': 'entropy'}. Best is trial 5 with value: 0.9990863129682646.\n",
      "[I 2025-06-10 14:19:13,630] Trial 37 finished with value: 0.9303568247936829 and parameters: {'max_depth': 100, 'max_features': 'log2', 'min_samples_split': 12, 'min_samples_leaf': 7, 'splitter': 'best', 'criterion': 'gini'}. Best is trial 5 with value: 0.9990863129682646.\n",
      "[I 2025-06-10 14:19:13,677] Trial 38 finished with value: 0.9730876469875136 and parameters: {'max_depth': 50, 'max_features': None, 'min_samples_split': 2, 'min_samples_leaf': 11, 'splitter': 'random', 'criterion': 'entropy'}. Best is trial 5 with value: 0.9990863129682646.\n",
      "[I 2025-06-10 14:19:13,994] Trial 39 finished with value: 0.9984777446264386 and parameters: {'max_depth': 15, 'max_features': None, 'min_samples_split': 3, 'min_samples_leaf': 4, 'splitter': 'best', 'criterion': 'entropy'}. Best is trial 5 with value: 0.9990863129682646.\n",
      "[I 2025-06-10 14:19:14,073] Trial 40 finished with value: 0.9316259966175404 and parameters: {'max_depth': 10, 'max_features': 'log2', 'min_samples_split': 16, 'min_samples_leaf': 10, 'splitter': 'best', 'criterion': 'gini'}. Best is trial 5 with value: 0.9990863129682646.\n",
      "[I 2025-06-10 14:19:14,201] Trial 41 finished with value: 0.9990863129682646 and parameters: {'max_depth': None, 'max_features': None, 'min_samples_split': 2, 'min_samples_leaf': 6, 'splitter': 'best', 'criterion': 'entropy'}. Best is trial 5 with value: 0.9990863129682646.\n",
      "[I 2025-06-10 14:19:14,323] Trial 42 finished with value: 0.9990863129682646 and parameters: {'max_depth': None, 'max_features': None, 'min_samples_split': 5, 'min_samples_leaf': 7, 'splitter': 'best', 'criterion': 'entropy'}. Best is trial 5 with value: 0.9990863129682646.\n",
      "[I 2025-06-10 14:19:14,475] Trial 43 finished with value: 0.9990863129682646 and parameters: {'max_depth': None, 'max_features': None, 'min_samples_split': 3, 'min_samples_leaf': 6, 'splitter': 'best', 'criterion': 'entropy'}. Best is trial 5 with value: 0.9990863129682646.\n",
      "[I 2025-06-10 14:19:14,603] Trial 44 finished with value: 0.9990863129682646 and parameters: {'max_depth': None, 'max_features': None, 'min_samples_split': 2, 'min_samples_leaf': 9, 'splitter': 'best', 'criterion': 'entropy'}. Best is trial 5 with value: 0.9990863129682646.\n",
      "[I 2025-06-10 14:19:14,728] Trial 45 finished with value: 0.9984779299847792 and parameters: {'max_depth': 30, 'max_features': None, 'min_samples_split': 4, 'min_samples_leaf': 4, 'splitter': 'best', 'criterion': 'entropy'}. Best is trial 5 with value: 0.9990863129682646.\n",
      "[I 2025-06-10 14:19:14,793] Trial 46 finished with value: 0.9651345156231149 and parameters: {'max_depth': 100, 'max_features': 'sqrt', 'min_samples_split': 9, 'min_samples_leaf': 8, 'splitter': 'best', 'criterion': 'entropy'}. Best is trial 5 with value: 0.9990863129682646.\n",
      "[I 2025-06-10 14:19:14,915] Trial 47 finished with value: 0.9986604968339016 and parameters: {'max_depth': 20, 'max_features': None, 'min_samples_split': 6, 'min_samples_leaf': 5, 'splitter': 'best', 'criterion': 'entropy'}. Best is trial 5 with value: 0.9990863129682646.\n"
     ]
    },
    {
     "name": "stderr",
     "output_type": "stream",
     "text": [
      "[I 2025-06-10 14:19:15,082] A new study created in memory with name: no-name-3ebe419a-93e0-4bd9-93e0-f0120ac496bd\n"
     ]
    },
    {
     "name": "stdout",
     "output_type": "stream",
     "text": [
      "[I 2025-06-10 14:19:14,953] Trial 48 finished with value: 0.9330703808702083 and parameters: {'max_depth': 20, 'max_features': 'log2', 'min_samples_split': 4, 'min_samples_leaf': 6, 'splitter': 'random', 'criterion': 'gini'}. Best is trial 5 with value: 0.9990863129682646.\n",
      "[I 2025-06-10 14:19:15,079] Trial 49 finished with value: 0.9992082343626286 and parameters: {'max_depth': None, 'max_features': None, 'min_samples_split': 20, 'min_samples_leaf': 2, 'splitter': 'best', 'criterion': 'entropy'}. Best is trial 49 with value: 0.9992082343626286.\n"
     ]
    },
    {
     "data": {
      "application/vnd.jupyter.widget-view+json": {
       "model_id": "9452e9a0ad2245f5bd17b86b44c130cb",
       "version_major": 2,
       "version_minor": 0
      },
      "text/plain": [
       "  0%|          | 0/20 [00:00<?, ?it/s]"
      ]
     },
     "metadata": {},
     "output_type": "display_data"
    },
    {
     "name": "stdout",
     "output_type": "stream",
     "text": [
      "[I 2025-06-10 14:19:16,506] Trial 0 finished with value: 0.9649337910740559 and parameters: {'n_estimators': 218, 'max_depth': 10, 'max_features': 'sqrt', 'min_samples_split': 7, 'min_samples_leaf': 2, 'criterion': 'entropy'}. Best is trial 0 with value: 0.9649337910740559.\n",
      "[I 2025-06-10 14:19:20,262] Trial 1 finished with value: 0.9989641094387911 and parameters: {'n_estimators': 255, 'max_depth': 9, 'max_features': None, 'min_samples_split': 4, 'min_samples_leaf': 9, 'criterion': 'entropy'}. Best is trial 1 with value: 0.9989641094387911.\n",
      "[I 2025-06-10 14:19:22,352] Trial 2 finished with value: 0.9219765076448586 and parameters: {'n_estimators': 296, 'max_depth': 1, 'max_features': None, 'min_samples_split': 2, 'min_samples_leaf': 13, 'criterion': 'gini'}. Best is trial 1 with value: 0.9989641094387911.\n",
      "[I 2025-06-10 14:19:23,518] Trial 3 finished with value: 0.9968392900559202 and parameters: {'n_estimators': 52, 'max_depth': 15, 'max_features': None, 'min_samples_split': 8, 'min_samples_leaf': 8, 'criterion': 'gini'}. Best is trial 1 with value: 0.9989641094387911.\n",
      "[I 2025-06-10 14:19:29,660] Trial 4 finished with value: 0.9979321250456149 and parameters: {'n_estimators': 285, 'max_depth': 15, 'max_features': None, 'min_samples_split': 9, 'min_samples_leaf': 3, 'criterion': 'gini'}. Best is trial 1 with value: 0.9989641094387911.\n",
      "[I 2025-06-10 14:19:38,221] Trial 5 finished with value: 0.9978714346530438 and parameters: {'n_estimators': 414, 'max_depth': 13, 'max_features': None, 'min_samples_split': 10, 'min_samples_leaf': 4, 'criterion': 'gini'}. Best is trial 1 with value: 0.9989641094387911.\n",
      "[I 2025-06-10 14:19:39,501] Trial 6 finished with value: 0.9559955995599559 and parameters: {'n_estimators': 178, 'max_depth': 9, 'max_features': 'log2', 'min_samples_split': 2, 'min_samples_leaf': 11, 'criterion': 'gini'}. Best is trial 1 with value: 0.9989641094387911.\n",
      "[I 2025-06-10 14:19:40,009] Trial 7 finished with value: 0.9544282029234737 and parameters: {'n_estimators': 68, 'max_depth': 9, 'max_features': 'log2', 'min_samples_split': 6, 'min_samples_leaf': 4, 'criterion': 'entropy'}. Best is trial 1 with value: 0.9989641094387911.\n",
      "[I 2025-06-10 14:19:48,531] Trial 8 finished with value: 0.9969545620660251 and parameters: {'n_estimators': 456, 'max_depth': 10, 'max_features': None, 'min_samples_split': 7, 'min_samples_leaf': 3, 'criterion': 'gini'}. Best is trial 1 with value: 0.9989641094387911.\n",
      "[I 2025-06-10 14:19:52,762] Trial 9 finished with value: 0.9962254961646171 and parameters: {'n_estimators': 196, 'max_depth': 9, 'max_features': None, 'min_samples_split': 4, 'min_samples_leaf': 1, 'criterion': 'gini'}. Best is trial 1 with value: 0.9989641094387911.\n",
      "[I 2025-06-10 14:19:56,188] Trial 10 finished with value: 0.9758132785100979 and parameters: {'n_estimators': 400, 'max_depth': None, 'max_features': 'sqrt', 'min_samples_split': 4, 'min_samples_leaf': 8, 'criterion': 'entropy'}. Best is trial 1 with value: 0.9989641094387911.\n",
      "[I 2025-06-10 14:20:01,275] Trial 11 finished with value: 0.9990867579908675 and parameters: {'n_estimators': 314, 'max_depth': 15, 'max_features': None, 'min_samples_split': 10, 'min_samples_leaf': 6, 'criterion': 'entropy'}. Best is trial 11 with value: 0.9990867579908675.\n",
      "[I 2025-06-10 14:20:06,909] Trial 12 finished with value: 0.9990867579908675 and parameters: {'n_estimators': 348, 'max_depth': 14, 'max_features': None, 'min_samples_split': 5, 'min_samples_leaf': 6, 'criterion': 'entropy'}. Best is trial 11 with value: 0.9990867579908675.\n",
      "[I 2025-06-10 14:20:12,478] Trial 13 finished with value: 0.9990259344940947 and parameters: {'n_estimators': 359, 'max_depth': 14, 'max_features': None, 'min_samples_split': 5, 'min_samples_leaf': 6, 'criterion': 'entropy'}. Best is trial 11 with value: 0.9990867579908675.\n",
      "[I 2025-06-10 14:20:15,335] Trial 14 finished with value: 0.9666463785757761 and parameters: {'n_estimators': 341, 'max_depth': 14, 'max_features': 'sqrt', 'min_samples_split': 10, 'min_samples_leaf': 6, 'criterion': 'entropy'}. Best is trial 11 with value: 0.9990867579908675.\n",
      "[I 2025-06-10 14:20:17,703] Trial 15 finished with value: 0.9400243231133585 and parameters: {'n_estimators': 500, 'max_depth': 3, 'max_features': 'log2', 'min_samples_split': 6, 'min_samples_leaf': 6, 'criterion': 'entropy'}. Best is trial 11 with value: 0.9990867579908675.\n",
      "[I 2025-06-10 14:20:21,699] Trial 16 finished with value: 0.9929624869958998 and parameters: {'n_estimators': 333, 'max_depth': 6, 'max_features': None, 'min_samples_split': 8, 'min_samples_leaf': 5, 'criterion': 'entropy'}. Best is trial 11 with value: 0.9990867579908675.\n",
      "[I 2025-06-10 14:20:23,187] Trial 17 finished with value: 0.9509361266630546 and parameters: {'n_estimators': 146, 'max_depth': 4, 'max_features': None, 'min_samples_split': 5, 'min_samples_leaf': 10, 'criterion': 'entropy'}. Best is trial 11 with value: 0.9990867579908675.\n",
      "[I 2025-06-10 14:20:25,276] Trial 18 finished with value: 0.9520020209675382 and parameters: {'n_estimators': 385, 'max_depth': 5, 'max_features': 'log2', 'min_samples_split': 3, 'min_samples_leaf': 7, 'criterion': 'entropy'}. Best is trial 11 with value: 0.9990867579908675.\n",
      "[I 2025-06-10 14:20:27,527] Trial 19 finished with value: 0.9625022864459484 and parameters: {'n_estimators': 307, 'max_depth': 11, 'max_features': 'sqrt', 'min_samples_split': 9, 'min_samples_leaf': 11, 'criterion': 'entropy'}. Best is trial 11 with value: 0.9990867579908675.\n"
     ]
    }
   ],
   "source": [
    "tuning_results = {}\n",
    "for model_key in ['lr', 'dt', 'rf']:\n",
    "    if model_key == 'dt':\n",
    "        n_trials = 50\n",
    "    else:\n",
    "        n_trials = 20\n",
    "\n",
    "    params, score = tune_model_optuna(\n",
    "        model_key=model_key,\n",
    "        X_train=X_train_1,\n",
    "        y_train=y_train,\n",
    "        X_val=X_val_1,\n",
    "        y_val=y_val,\n",
    "        n_trials=n_trials\n",
    "    )\n",
    "    tuning_results[model_key] = params, score"
   ]
  },
  {
   "cell_type": "code",
   "execution_count": 13,
   "metadata": {},
   "outputs": [],
   "source": [
    "def tune_gb_model(model, params, X_train, y_train, X_val, y_val, best_params=None, param_type=None):\n",
    "    '''Fine tunes a gradient boosting model using iterative grid search.'''\n",
    "    assert param_type in ['int64', 'float64', 'str'], 'param_type must be int, float, or str'\n",
    "\n",
    "    model.set_params(**best_params) if best_params else None\n",
    "\n",
    "    # track results manually\n",
    "    results = []\n",
    "\n",
    "    for param_set in tqdm(list(ParameterGrid(params))):\n",
    "        model.set_params(**param_set)\n",
    "        model.fit(X_train, y_train)\n",
    "\n",
    "        y_pred = model.predict(X_val)\n",
    "        score = f1_score(y_val, y_pred)\n",
    "\n",
    "        results.append({\n",
    "            **param_set,\n",
    "            'f1_score': score\n",
    "        })\n",
    "\n",
    "    # check results\n",
    "    search_df = pd.DataFrame(results)\n",
    "\n",
    "    search_df = search_df.sort_values('f1_score', ascending=False).reset_index(drop=True)\n",
    "    display(search_df.head())\n",
    "\n",
    "    # update best params\n",
    "    top_result = search_df.iloc[[0]]\n",
    "    \n",
    "    param_names = list(params.keys())\n",
    "    for param_name in param_names:\n",
    "        if top_result[param_name].values[0] != None:\n",
    "            top_result[param_name] = top_result[param_name].astype(param_type)\n",
    "\n",
    "        if param_type == 'str':\n",
    "            try:\n",
    "                top_result[param_name] = top_result[param_name].astype(param_type)\n",
    "            except:\n",
    "                top_result[param_name] = top_result[param_name].astype('int64')\n",
    "\n",
    "    if not best_params:\n",
    "        best_params = {}\n",
    "\n",
    "    best_params.update({k: search_df[k].values[0] for k in params})\n",
    "    best_score = top_result['f1_score']\n",
    "\n",
    "    return best_params, best_score"
   ]
  },
  {
   "cell_type": "code",
   "execution_count": 11,
   "metadata": {},
   "outputs": [
    {
     "data": {
      "application/vnd.jupyter.widget-view+json": {
       "model_id": "232fb5dbb5e94845b097323bcab88035",
       "version_major": 2,
       "version_minor": 0
      },
      "text/plain": [
       "  0%|          | 0/4 [00:00<?, ?it/s]"
      ]
     },
     "metadata": {},
     "output_type": "display_data"
    },
    {
     "data": {
      "text/html": [
       "<div>\n",
       "<style scoped>\n",
       "    .dataframe tbody tr th:only-of-type {\n",
       "        vertical-align: middle;\n",
       "    }\n",
       "\n",
       "    .dataframe tbody tr th {\n",
       "        vertical-align: top;\n",
       "    }\n",
       "\n",
       "    .dataframe thead th {\n",
       "        text-align: right;\n",
       "    }\n",
       "</style>\n",
       "<table border=\"1\" class=\"dataframe\">\n",
       "  <thead>\n",
       "    <tr style=\"text-align: right;\">\n",
       "      <th></th>\n",
       "      <th>n_estimators</th>\n",
       "      <th>f1_score</th>\n",
       "    </tr>\n",
       "  </thead>\n",
       "  <tbody>\n",
       "    <tr>\n",
       "      <th>0</th>\n",
       "      <td>900</td>\n",
       "      <td>0.999209</td>\n",
       "    </tr>\n",
       "    <tr>\n",
       "      <th>1</th>\n",
       "      <td>1000</td>\n",
       "      <td>0.999209</td>\n",
       "    </tr>\n",
       "    <tr>\n",
       "      <th>2</th>\n",
       "      <td>800</td>\n",
       "      <td>0.999087</td>\n",
       "    </tr>\n",
       "    <tr>\n",
       "      <th>3</th>\n",
       "      <td>700</td>\n",
       "      <td>0.999026</td>\n",
       "    </tr>\n",
       "  </tbody>\n",
       "</table>\n",
       "</div>"
      ],
      "text/plain": [
       "   n_estimators  f1_score\n",
       "0           900  0.999209\n",
       "1          1000  0.999209\n",
       "2           800  0.999087\n",
       "3           700  0.999026"
      ]
     },
     "metadata": {},
     "output_type": "display_data"
    },
    {
     "name": "stdout",
     "output_type": "stream",
     "text": [
      "{'n_estimators': np.int64(900)}\n",
      "0    0.999209\n",
      "Name: f1_score, dtype: float64\n"
     ]
    }
   ],
   "source": [
    "# gradient boosting\n",
    "params = {\n",
    "    'n_estimators': range(700, 1100, 100),\n",
    "}\n",
    "\n",
    "# define model\n",
    "model = GradientBoostingClassifier(\n",
    "    learning_rate=0.1,\n",
    "    min_samples_split=100,\n",
    "    min_samples_leaf=32,\n",
    "    max_depth=7, # allow deeper trees\n",
    "    max_features='sqrt',\n",
    "    random_state=42\n",
    ")\n",
    "\n",
    "best_params, best_score = tune_gb_model(\n",
    "    model=model,\n",
    "    params=params,\n",
    "    X_train=X_train_1,\n",
    "    y_train=y_train,\n",
    "    X_val=X_val_1,\n",
    "    y_val=y_val,\n",
    "    best_params=None,\n",
    "    param_type='int64'\n",
    ")\n",
    "\n",
    "print(best_params)\n",
    "print(best_score)"
   ]
  },
  {
   "cell_type": "code",
   "execution_count": 12,
   "metadata": {},
   "outputs": [
    {
     "data": {
      "application/vnd.jupyter.widget-view+json": {
       "model_id": "ffb91f3029394680b04a06a2693ac1f3",
       "version_major": 2,
       "version_minor": 0
      },
      "text/plain": [
       "  0%|          | 0/8 [00:00<?, ?it/s]"
      ]
     },
     "metadata": {},
     "output_type": "display_data"
    },
    {
     "data": {
      "text/html": [
       "<div>\n",
       "<style scoped>\n",
       "    .dataframe tbody tr th:only-of-type {\n",
       "        vertical-align: middle;\n",
       "    }\n",
       "\n",
       "    .dataframe tbody tr th {\n",
       "        vertical-align: top;\n",
       "    }\n",
       "\n",
       "    .dataframe thead th {\n",
       "        text-align: right;\n",
       "    }\n",
       "</style>\n",
       "<table border=\"1\" class=\"dataframe\">\n",
       "  <thead>\n",
       "    <tr style=\"text-align: right;\">\n",
       "      <th></th>\n",
       "      <th>max_depth</th>\n",
       "      <th>f1_score</th>\n",
       "    </tr>\n",
       "  </thead>\n",
       "  <tbody>\n",
       "    <tr>\n",
       "      <th>0</th>\n",
       "      <td>7</td>\n",
       "      <td>0.999209</td>\n",
       "    </tr>\n",
       "    <tr>\n",
       "      <th>1</th>\n",
       "      <td>6</td>\n",
       "      <td>0.999026</td>\n",
       "    </tr>\n",
       "    <tr>\n",
       "      <th>2</th>\n",
       "      <td>8</td>\n",
       "      <td>0.999026</td>\n",
       "    </tr>\n",
       "    <tr>\n",
       "      <th>3</th>\n",
       "      <td>5</td>\n",
       "      <td>0.998782</td>\n",
       "    </tr>\n",
       "    <tr>\n",
       "      <th>4</th>\n",
       "      <td>4</td>\n",
       "      <td>0.998599</td>\n",
       "    </tr>\n",
       "  </tbody>\n",
       "</table>\n",
       "</div>"
      ],
      "text/plain": [
       "   max_depth  f1_score\n",
       "0          7  0.999209\n",
       "1          6  0.999026\n",
       "2          8  0.999026\n",
       "3          5  0.998782\n",
       "4          4  0.998599"
      ]
     },
     "metadata": {},
     "output_type": "display_data"
    },
    {
     "name": "stdout",
     "output_type": "stream",
     "text": [
      "{'n_estimators': np.int64(900), 'max_depth': np.int64(7)}\n",
      "0    0.999209\n",
      "Name: f1_score, dtype: float64\n"
     ]
    }
   ],
   "source": [
    "params = {\n",
    "            'max_depth': list(range(2,9)),\n",
    "}\n",
    "\n",
    "# define model\n",
    "model = GradientBoostingClassifier(\n",
    "    learning_rate=0.1,\n",
    "    min_samples_split=100,\n",
    "    min_samples_leaf=32,\n",
    "    max_features='sqrt',\n",
    "    random_state=42\n",
    ")\n",
    "\n",
    "best_params, best_score = tune_gb_model(\n",
    "    model=model,\n",
    "    params=params,\n",
    "    X_train=X_train_1,\n",
    "    y_train=y_train,\n",
    "    X_val=X_val_1,\n",
    "    y_val=y_val,\n",
    "    best_params=best_params,\n",
    "    param_type='int64'\n",
    ")\n",
    "\n",
    "print(best_params)\n",
    "print(best_score)"
   ]
  },
  {
   "cell_type": "code",
   "execution_count": 21,
   "metadata": {},
   "outputs": [
    {
     "data": {
      "application/vnd.jupyter.widget-view+json": {
       "model_id": "e84fe6bd39c94da383174c5db32fd6fb",
       "version_major": 2,
       "version_minor": 0
      },
      "text/plain": [
       "  0%|          | 0/4 [00:00<?, ?it/s]"
      ]
     },
     "metadata": {},
     "output_type": "display_data"
    },
    {
     "data": {
      "text/html": [
       "<div>\n",
       "<style scoped>\n",
       "    .dataframe tbody tr th:only-of-type {\n",
       "        vertical-align: middle;\n",
       "    }\n",
       "\n",
       "    .dataframe tbody tr th {\n",
       "        vertical-align: top;\n",
       "    }\n",
       "\n",
       "    .dataframe thead th {\n",
       "        text-align: right;\n",
       "    }\n",
       "</style>\n",
       "<table border=\"1\" class=\"dataframe\">\n",
       "  <thead>\n",
       "    <tr style=\"text-align: right;\">\n",
       "      <th></th>\n",
       "      <th>min_samples_leaf</th>\n",
       "      <th>f1_score</th>\n",
       "    </tr>\n",
       "  </thead>\n",
       "  <tbody>\n",
       "    <tr>\n",
       "      <th>0</th>\n",
       "      <td>2</td>\n",
       "      <td>0.999269</td>\n",
       "    </tr>\n",
       "    <tr>\n",
       "      <th>1</th>\n",
       "      <td>12</td>\n",
       "      <td>0.999209</td>\n",
       "    </tr>\n",
       "    <tr>\n",
       "      <th>2</th>\n",
       "      <td>32</td>\n",
       "      <td>0.999209</td>\n",
       "    </tr>\n",
       "    <tr>\n",
       "      <th>3</th>\n",
       "      <td>22</td>\n",
       "      <td>0.999087</td>\n",
       "    </tr>\n",
       "  </tbody>\n",
       "</table>\n",
       "</div>"
      ],
      "text/plain": [
       "   min_samples_leaf  f1_score\n",
       "0                 2  0.999269\n",
       "1                12  0.999209\n",
       "2                32  0.999209\n",
       "3                22  0.999087"
      ]
     },
     "metadata": {},
     "output_type": "display_data"
    },
    {
     "name": "stdout",
     "output_type": "stream",
     "text": [
      "{'n_estimators': np.int64(900), 'max_depth': np.int64(7), 'min_samples_leaf': np.int64(2)}\n",
      "0    0.999269\n",
      "Name: f1_score, dtype: float64\n"
     ]
    }
   ],
   "source": [
    "params = {\n",
    "            'min_samples_leaf':range(2, 42, 10)\n",
    "}\n",
    "\n",
    "# define model\n",
    "model = GradientBoostingClassifier(\n",
    "    learning_rate=0.1,\n",
    "    min_samples_split=100,\n",
    "    max_features='sqrt',\n",
    "    random_state=42\n",
    ")\n",
    "\n",
    "best_params, best_score = tune_gb_model(\n",
    "    model=model,\n",
    "    params=params,\n",
    "    X_train=X_train_1,\n",
    "    y_train=y_train,\n",
    "    X_val=X_val_1,\n",
    "    y_val=y_val,\n",
    "    best_params=best_params,\n",
    "    param_type='int64'\n",
    ")\n",
    "\n",
    "print(best_params)\n",
    "print(best_score)"
   ]
  },
  {
   "cell_type": "code",
   "execution_count": 25,
   "metadata": {},
   "outputs": [
    {
     "data": {
      "application/vnd.jupyter.widget-view+json": {
       "model_id": "26669a316cf244d2861b1e072752c0b5",
       "version_major": 2,
       "version_minor": 0
      },
      "text/plain": [
       "  0%|          | 0/5 [00:00<?, ?it/s]"
      ]
     },
     "metadata": {},
     "output_type": "display_data"
    },
    {
     "data": {
      "text/html": [
       "<div>\n",
       "<style scoped>\n",
       "    .dataframe tbody tr th:only-of-type {\n",
       "        vertical-align: middle;\n",
       "    }\n",
       "\n",
       "    .dataframe tbody tr th {\n",
       "        vertical-align: top;\n",
       "    }\n",
       "\n",
       "    .dataframe thead th {\n",
       "        text-align: right;\n",
       "    }\n",
       "</style>\n",
       "<table border=\"1\" class=\"dataframe\">\n",
       "  <thead>\n",
       "    <tr style=\"text-align: right;\">\n",
       "      <th></th>\n",
       "      <th>min_samples_split</th>\n",
       "      <th>f1_score</th>\n",
       "    </tr>\n",
       "  </thead>\n",
       "  <tbody>\n",
       "    <tr>\n",
       "      <th>0</th>\n",
       "      <td>102</td>\n",
       "      <td>0.999391</td>\n",
       "    </tr>\n",
       "    <tr>\n",
       "      <th>1</th>\n",
       "      <td>52</td>\n",
       "      <td>0.999208</td>\n",
       "    </tr>\n",
       "    <tr>\n",
       "      <th>2</th>\n",
       "      <td>202</td>\n",
       "      <td>0.999087</td>\n",
       "    </tr>\n",
       "    <tr>\n",
       "      <th>3</th>\n",
       "      <td>152</td>\n",
       "      <td>0.999087</td>\n",
       "    </tr>\n",
       "    <tr>\n",
       "      <th>4</th>\n",
       "      <td>2</td>\n",
       "      <td>0.999087</td>\n",
       "    </tr>\n",
       "  </tbody>\n",
       "</table>\n",
       "</div>"
      ],
      "text/plain": [
       "   min_samples_split  f1_score\n",
       "0                102  0.999391\n",
       "1                 52  0.999208\n",
       "2                202  0.999087\n",
       "3                152  0.999087\n",
       "4                  2  0.999087"
      ]
     },
     "metadata": {},
     "output_type": "display_data"
    },
    {
     "name": "stdout",
     "output_type": "stream",
     "text": [
      "{'n_estimators': np.int64(900), 'max_depth': np.int64(7), 'min_samples_leaf': np.int64(2), 'min_samples_split': np.int64(102)}\n",
      "0    0.999391\n",
      "Name: f1_score, dtype: float64\n"
     ]
    }
   ],
   "source": [
    "params = {\n",
    "            'min_samples_split': range(2, 252, 50)\n",
    "}\n",
    "\n",
    "# define model\n",
    "model = GradientBoostingClassifier(\n",
    "    learning_rate=0.1,\n",
    "    max_features='sqrt',\n",
    "    random_state=42\n",
    ")\n",
    "\n",
    "best_params, best_score = tune_gb_model(\n",
    "    model=model,\n",
    "    params=params,\n",
    "    X_train=X_train_1,\n",
    "    y_train=y_train,\n",
    "    X_val=X_val_1,\n",
    "    y_val=y_val,\n",
    "    best_params=best_params,\n",
    "    param_type='int64'\n",
    ")\n",
    "\n",
    "print(best_params)\n",
    "print(best_score)"
   ]
  },
  {
   "cell_type": "code",
   "execution_count": 30,
   "metadata": {},
   "outputs": [
    {
     "data": {
      "application/vnd.jupyter.widget-view+json": {
       "model_id": "4ca7767fea71468eb9cf714de479474d",
       "version_major": 2,
       "version_minor": 0
      },
      "text/plain": [
       "  0%|          | 0/7 [00:00<?, ?it/s]"
      ]
     },
     "metadata": {},
     "output_type": "display_data"
    },
    {
     "data": {
      "text/html": [
       "<div>\n",
       "<style scoped>\n",
       "    .dataframe tbody tr th:only-of-type {\n",
       "        vertical-align: middle;\n",
       "    }\n",
       "\n",
       "    .dataframe tbody tr th {\n",
       "        vertical-align: top;\n",
       "    }\n",
       "\n",
       "    .dataframe thead th {\n",
       "        text-align: right;\n",
       "    }\n",
       "</style>\n",
       "<table border=\"1\" class=\"dataframe\">\n",
       "  <thead>\n",
       "    <tr style=\"text-align: right;\">\n",
       "      <th></th>\n",
       "      <th>max_features</th>\n",
       "      <th>f1_score</th>\n",
       "    </tr>\n",
       "  </thead>\n",
       "  <tbody>\n",
       "    <tr>\n",
       "      <th>0</th>\n",
       "      <td>10</td>\n",
       "      <td>0.999452</td>\n",
       "    </tr>\n",
       "    <tr>\n",
       "      <th>1</th>\n",
       "      <td>None</td>\n",
       "      <td>0.999391</td>\n",
       "    </tr>\n",
       "    <tr>\n",
       "      <th>2</th>\n",
       "      <td>sqrt</td>\n",
       "      <td>0.999391</td>\n",
       "    </tr>\n",
       "    <tr>\n",
       "      <th>3</th>\n",
       "      <td>log2</td>\n",
       "      <td>0.999391</td>\n",
       "    </tr>\n",
       "    <tr>\n",
       "      <th>4</th>\n",
       "      <td>12</td>\n",
       "      <td>0.999391</td>\n",
       "    </tr>\n",
       "  </tbody>\n",
       "</table>\n",
       "</div>"
      ],
      "text/plain": [
       "  max_features  f1_score\n",
       "0           10  0.999452\n",
       "1         None  0.999391\n",
       "2         sqrt  0.999391\n",
       "3         log2  0.999391\n",
       "4           12  0.999391"
      ]
     },
     "metadata": {},
     "output_type": "display_data"
    },
    {
     "name": "stdout",
     "output_type": "stream",
     "text": [
      "{'n_estimators': np.int64(900), 'max_depth': np.int64(7), 'min_samples_leaf': np.int64(2), 'min_samples_split': np.int64(102), 'max_features': 10}\n",
      "0    0.999452\n",
      "Name: f1_score, dtype: float64\n"
     ]
    }
   ],
   "source": [
    "params = {\n",
    "            'max_features': [None, 'sqrt', 'log2'] + list(range(10, len(X_train_1.columns), 1))\n",
    "}\n",
    "# None makes max_features = n_features\n",
    "\n",
    "# define model\n",
    "model = GradientBoostingClassifier(\n",
    "    learning_rate=0.1,\n",
    "    random_state=42\n",
    ")\n",
    "\n",
    "best_params, best_score = tune_gb_model(\n",
    "    model=model,\n",
    "    params=params,\n",
    "    X_train=X_train_1,\n",
    "    y_train=y_train,\n",
    "    X_val=X_val_1,\n",
    "    y_val=y_val,\n",
    "    best_params=best_params,\n",
    "    param_type='str'\n",
    ")\n",
    "\n",
    "print(best_params)\n",
    "print(best_score)"
   ]
  },
  {
   "cell_type": "code",
   "execution_count": 45,
   "metadata": {},
   "outputs": [
    {
     "data": {
      "text/html": [
       "<div>\n",
       "<style scoped>\n",
       "    .dataframe tbody tr th:only-of-type {\n",
       "        vertical-align: middle;\n",
       "    }\n",
       "\n",
       "    .dataframe tbody tr th {\n",
       "        vertical-align: top;\n",
       "    }\n",
       "\n",
       "    .dataframe thead th {\n",
       "        text-align: right;\n",
       "    }\n",
       "</style>\n",
       "<table border=\"1\" class=\"dataframe\">\n",
       "  <thead>\n",
       "    <tr style=\"text-align: right;\">\n",
       "      <th></th>\n",
       "      <th>Model</th>\n",
       "      <th>Accuracy</th>\n",
       "      <th>Recall</th>\n",
       "      <th>Precision</th>\n",
       "      <th>F1</th>\n",
       "      <th>ROC AUC</th>\n",
       "    </tr>\n",
       "  </thead>\n",
       "  <tbody>\n",
       "    <tr>\n",
       "      <th>0</th>\n",
       "      <td>GradientBoostingClassifier</td>\n",
       "      <td>0.9994</td>\n",
       "      <td>0.9993</td>\n",
       "      <td>0.9996</td>\n",
       "      <td>0.9995</td>\n",
       "      <td>0.9994</td>\n",
       "    </tr>\n",
       "  </tbody>\n",
       "</table>\n",
       "</div>"
      ],
      "text/plain": [
       "                        Model  Accuracy  Recall  Precision      F1  ROC AUC\n",
       "0  GradientBoostingClassifier    0.9994  0.9993     0.9996  0.9995   0.9994"
      ]
     },
     "metadata": {},
     "output_type": "display_data"
    }
   ],
   "source": [
    "# init the classifier with best parameters\n",
    "GB1 = GradientBoostingClassifier(learning_rate=0.1, random_state=42).set_params(**best_params).fit(X_train_1, y_train)\n",
    "\n",
    "gb_1 = classification_model_df([GB1], X_val=X_val_1, y_val=y_val)\n",
    "display(gb_1)"
   ]
  },
  {
   "cell_type": "code",
   "execution_count": null,
   "metadata": {},
   "outputs": [
    {
     "data": {
      "text/html": [
       "<div>\n",
       "<style scoped>\n",
       "    .dataframe tbody tr th:only-of-type {\n",
       "        vertical-align: middle;\n",
       "    }\n",
       "\n",
       "    .dataframe tbody tr th {\n",
       "        vertical-align: top;\n",
       "    }\n",
       "\n",
       "    .dataframe thead th {\n",
       "        text-align: right;\n",
       "    }\n",
       "</style>\n",
       "<table border=\"1\" class=\"dataframe\">\n",
       "  <thead>\n",
       "    <tr style=\"text-align: right;\">\n",
       "      <th></th>\n",
       "      <th>Model</th>\n",
       "      <th>Accuracy</th>\n",
       "      <th>Recall</th>\n",
       "      <th>Precision</th>\n",
       "      <th>F1</th>\n",
       "      <th>ROC AUC</th>\n",
       "    </tr>\n",
       "  </thead>\n",
       "  <tbody>\n",
       "    <tr>\n",
       "      <th>0</th>\n",
       "      <td>GradientBoostingClassifier</td>\n",
       "      <td>0.9992</td>\n",
       "      <td>0.9991</td>\n",
       "      <td>0.9995</td>\n",
       "      <td>0.9993</td>\n",
       "      <td>0.9992</td>\n",
       "    </tr>\n",
       "  </tbody>\n",
       "</table>\n",
       "</div>"
      ],
      "text/plain": [
       "                        Model  Accuracy  Recall  Precision      F1  ROC AUC\n",
       "0  GradientBoostingClassifier    0.9992  0.9991     0.9995  0.9993   0.9992"
      ]
     },
     "metadata": {},
     "output_type": "display_data"
    }
   ],
   "source": [
    "# now allow model to learn slower, lr/2, n_estimators*2\n",
    "GB2 =  GradientBoostingClassifier(learning_rate=0.05, random_state=42).set_params(**best_params).set_params(**{'n_estimators':best_params['n_estimators'] * 2}).fit(X_train_1, y_train)\n",
    "\n",
    "gb_2 = classification_model_df([GB2], X_val=X_val_1, y_val=y_val)\n",
    "display(gb_2)"
   ]
  },
  {
   "cell_type": "markdown",
   "metadata": {},
   "source": [
    "**GB2 seems tohave oferfitted the data**. LR = 0.1 is deemed as optimal."
   ]
  },
  {
   "cell_type": "code",
   "execution_count": 127,
   "metadata": {},
   "outputs": [
    {
     "data": {
      "text/html": [
       "<div>\n",
       "<style scoped>\n",
       "    .dataframe tbody tr th:only-of-type {\n",
       "        vertical-align: middle;\n",
       "    }\n",
       "\n",
       "    .dataframe tbody tr th {\n",
       "        vertical-align: top;\n",
       "    }\n",
       "\n",
       "    .dataframe thead th {\n",
       "        text-align: right;\n",
       "    }\n",
       "</style>\n",
       "<table border=\"1\" class=\"dataframe\">\n",
       "  <thead>\n",
       "    <tr style=\"text-align: right;\">\n",
       "      <th></th>\n",
       "      <th>model</th>\n",
       "      <th>best_score</th>\n",
       "    </tr>\n",
       "  </thead>\n",
       "  <tbody>\n",
       "    <tr>\n",
       "      <th>3</th>\n",
       "      <td>gb</td>\n",
       "      <td>0.9995</td>\n",
       "    </tr>\n",
       "    <tr>\n",
       "      <th>1</th>\n",
       "      <td>dt</td>\n",
       "      <td>0.999208</td>\n",
       "    </tr>\n",
       "    <tr>\n",
       "      <th>2</th>\n",
       "      <td>rf</td>\n",
       "      <td>0.999087</td>\n",
       "    </tr>\n",
       "    <tr>\n",
       "      <th>0</th>\n",
       "      <td>lr</td>\n",
       "      <td>0.942216</td>\n",
       "    </tr>\n",
       "  </tbody>\n",
       "</table>\n",
       "</div>"
      ],
      "text/plain": [
       "  model best_score\n",
       "3    gb     0.9995\n",
       "1    dt   0.999208\n",
       "2    rf   0.999087\n",
       "0    lr   0.942216"
      ]
     },
     "execution_count": 128,
     "metadata": {},
     "output_type": "execute_result"
    }
   ],
   "source": [
    "# save gb best params\n",
    "best_params.update({'learning_rate':0.1, 'random_state':42})\n",
    "best_bg_results = float(gb_1.iloc[0]['F1'])\n",
    "\n",
    "tuning_results['gb'] = (best_params, best_bg_results)\n",
    "\n",
    "tuning_results_df =pd.DataFrame(tuning_results).T.rename(columns={0:'best_params', 1:'best_score'}).reset_index().rename(columns={'index':'model'})\n",
    "\n",
    "tuning_results_df.drop(columns=['best_params']).sort_values('best_score', ascending=False)"
   ]
  },
  {
   "cell_type": "markdown",
   "metadata": {},
   "source": [
    "#### Scenario 2"
   ]
  },
  {
   "cell_type": "code",
   "execution_count": 63,
   "metadata": {},
   "outputs": [
    {
     "name": "stderr",
     "output_type": "stream",
     "text": [
      "[I 2025-06-10 15:45:29,113] A new study created in memory with name: no-name-f61a8e7b-316c-4ae5-b25c-ab67d75e6549\n"
     ]
    },
    {
     "data": {
      "application/vnd.jupyter.widget-view+json": {
       "model_id": "40de36f39d174fa497a88c41bb202c13",
       "version_major": 2,
       "version_minor": 0
      },
      "text/plain": [
       "  0%|          | 0/10 [00:00<?, ?it/s]"
      ]
     },
     "metadata": {},
     "output_type": "display_data"
    },
    {
     "name": "stdout",
     "output_type": "stream",
     "text": [
      "[I 2025-06-10 15:45:29,305] Trial 0 finished with value: 0.999086090294279 and parameters: {'C': 0.017670169402947963, 'penalty': 'l1'}. Best is trial 0 with value: 0.999086090294279.\n",
      "[I 2025-06-10 15:46:00,935] Trial 1 finished with value: 0.9991476926823328 and parameters: {'C': 0.0008632008168602552, 'penalty': None}. Best is trial 1 with value: 0.9991476926823328.\n",
      "[I 2025-06-10 15:46:31,436] Trial 2 finished with value: 0.9991476926823328 and parameters: {'C': 0.4042872735027334, 'penalty': None}. Best is trial 1 with value: 0.9991476926823328.\n",
      "[I 2025-06-10 15:46:46,471] Trial 3 finished with value: 0.9992693619094009 and parameters: {'C': 9.877700294007917, 'penalty': 'l1'}. Best is trial 3 with value: 0.9992693619094009.\n",
      "[I 2025-06-10 15:46:46,646] Trial 4 finished with value: 0.999086090294279 and parameters: {'C': 0.006690421166498805, 'penalty': 'l1'}. Best is trial 3 with value: 0.9992693619094009.\n",
      "[I 2025-06-10 15:47:19,954] Trial 5 finished with value: 0.9991476926823328 and parameters: {'C': 0.46894009635376926, 'penalty': None}. Best is trial 3 with value: 0.9992693619094009.\n",
      "[I 2025-06-10 15:47:20,108] Trial 6 finished with value: 0.9989643618641486 and parameters: {'C': 0.054502936945582545, 'penalty': 'l1'}. Best is trial 3 with value: 0.9992693619094009.\n",
      "[I 2025-06-10 15:47:20,558] Trial 7 finished with value: 0.9989643618641486 and parameters: {'C': 0.3584985580340476, 'penalty': 'l2'}. Best is trial 3 with value: 0.9992693619094009.\n",
      "[I 2025-06-10 15:47:20,741] Trial 8 finished with value: 0.9989643618641486 and parameters: {'C': 0.0002456459215250753, 'penalty': 'l2'}. Best is trial 3 with value: 0.9992693619094009.\n"
     ]
    },
    {
     "name": "stderr",
     "output_type": "stream",
     "text": [
      "[I 2025-06-10 15:47:20,888] A new study created in memory with name: no-name-4f6a4fca-6773-42fa-b7f8-af75a41e6ec7\n"
     ]
    },
    {
     "name": "stdout",
     "output_type": "stream",
     "text": [
      "[I 2025-06-10 15:47:20,886] Trial 9 finished with value: 0.999086090294279 and parameters: {'C': 0.006724850206557251, 'penalty': 'l2'}. Best is trial 3 with value: 0.9992693619094009.\n"
     ]
    },
    {
     "data": {
      "application/vnd.jupyter.widget-view+json": {
       "model_id": "a66c654810f842b0b99bcf502a88a972",
       "version_major": 2,
       "version_minor": 0
      },
      "text/plain": [
       "  0%|          | 0/50 [00:00<?, ?it/s]"
      ]
     },
     "metadata": {},
     "output_type": "display_data"
    },
    {
     "name": "stdout",
     "output_type": "stream",
     "text": [
      "[I 2025-06-10 15:47:20,932] Trial 0 finished with value: 0.999086090294279 and parameters: {'max_depth': 5, 'max_features': None, 'min_samples_split': 17, 'min_samples_leaf': 3, 'splitter': 'random', 'criterion': 'entropy'}. Best is trial 0 with value: 0.999086090294279.\n",
      "[I 2025-06-10 15:47:20,953] Trial 1 finished with value: 0.9988420988481931 and parameters: {'max_depth': 70, 'max_features': 'log2', 'min_samples_split': 13, 'min_samples_leaf': 3, 'splitter': 'random', 'criterion': 'gini'}. Best is trial 0 with value: 0.999086090294279.\n",
      "[I 2025-06-10 15:47:20,988] Trial 2 finished with value: 0.9989651184026298 and parameters: {'max_depth': 70, 'max_features': 'sqrt', 'min_samples_split': 12, 'min_samples_leaf': 3, 'splitter': 'best', 'criterion': 'gini'}. Best is trial 0 with value: 0.999086090294279.\n",
      "[I 2025-06-10 15:47:21,012] Trial 3 finished with value: 0.9989643618641486 and parameters: {'max_depth': 5, 'max_features': None, 'min_samples_split': 4, 'min_samples_leaf': 11, 'splitter': 'random', 'criterion': 'gini'}. Best is trial 0 with value: 0.999086090294279.\n",
      "[I 2025-06-10 15:47:21,040] Trial 4 finished with value: 0.999147588894301 and parameters: {'max_depth': 100, 'max_features': 'sqrt', 'min_samples_split': 7, 'min_samples_leaf': 5, 'splitter': 'best', 'criterion': 'gini'}. Best is trial 4 with value: 0.999147588894301.\n",
      "[I 2025-06-10 15:47:21,094] Trial 5 finished with value: 0.9989035087719298 and parameters: {'max_depth': 20, 'max_features': None, 'min_samples_split': 7, 'min_samples_leaf': 7, 'splitter': 'best', 'criterion': 'entropy'}. Best is trial 4 with value: 0.999147588894301.\n",
      "[I 2025-06-10 15:47:21,164] Trial 6 finished with value: 0.9990259344940947 and parameters: {'max_depth': 20, 'max_features': 'log2', 'min_samples_split': 17, 'min_samples_leaf': 12, 'splitter': 'best', 'criterion': 'entropy'}. Best is trial 4 with value: 0.999147588894301.\n",
      "[I 2025-06-10 15:47:21,253] Trial 7 finished with value: 0.9988440713025492 and parameters: {'max_depth': 100, 'max_features': None, 'min_samples_split': 8, 'min_samples_leaf': 13, 'splitter': 'best', 'criterion': 'gini'}. Best is trial 4 with value: 0.999147588894301.\n",
      "[I 2025-06-10 15:47:21,368] Trial 8 finished with value: 0.9984758885569713 and parameters: {'max_depth': 50, 'max_features': 'log2', 'min_samples_split': 14, 'min_samples_leaf': 10, 'splitter': 'random', 'criterion': 'entropy'}. Best is trial 4 with value: 0.999147588894301.\n",
      "[I 2025-06-10 15:47:21,450] Trial 9 finished with value: 0.9990869803396433 and parameters: {'max_depth': 15, 'max_features': 'log2', 'min_samples_split': 14, 'min_samples_leaf': 3, 'splitter': 'best', 'criterion': 'gini'}. Best is trial 4 with value: 0.999147588894301.\n",
      "[I 2025-06-10 15:47:21,538] Trial 10 finished with value: 0.9988426630931352 and parameters: {'max_depth': 30, 'max_features': 'sqrt', 'min_samples_split': 2, 'min_samples_leaf': 7, 'splitter': 'best', 'criterion': 'gini'}. Best is trial 4 with value: 0.999147588894301.\n",
      "[I 2025-06-10 15:47:21,582] Trial 11 finished with value: 0.998661311914324 and parameters: {'max_depth': 15, 'max_features': 'sqrt', 'min_samples_split': 9, 'min_samples_leaf': 1, 'splitter': 'best', 'criterion': 'gini'}. Best is trial 4 with value: 0.999147588894301.\n",
      "[I 2025-06-10 15:47:21,627] Trial 12 finished with value: 0.9991477964450938 and parameters: {'max_depth': 15, 'max_features': 'log2', 'min_samples_split': 19, 'min_samples_leaf': 5, 'splitter': 'best', 'criterion': 'gini'}. Best is trial 12 with value: 0.9991477964450938.\n",
      "[I 2025-06-10 15:47:21,668] Trial 13 finished with value: 0.9987220836122437 and parameters: {'max_depth': 10, 'max_features': 'sqrt', 'min_samples_split': 19, 'min_samples_leaf': 5, 'splitter': 'best', 'criterion': 'gini'}. Best is trial 12 with value: 0.9991477964450938.\n",
      "[I 2025-06-10 15:47:21,711] Trial 14 finished with value: 0.99896499238965 and parameters: {'max_depth': 100, 'max_features': 'log2', 'min_samples_split': 5, 'min_samples_leaf': 9, 'splitter': 'best', 'criterion': 'gini'}. Best is trial 12 with value: 0.9991477964450938.\n",
      "[I 2025-06-10 15:47:21,752] Trial 15 finished with value: 0.999147588894301 and parameters: {'max_depth': None, 'max_features': 'sqrt', 'min_samples_split': 10, 'min_samples_leaf': 5, 'splitter': 'best', 'criterion': 'gini'}. Best is trial 12 with value: 0.9991477964450938.\n",
      "[I 2025-06-10 15:47:21,794] Trial 16 finished with value: 0.9986003772896002 and parameters: {'max_depth': 15, 'max_features': 'log2', 'min_samples_split': 20, 'min_samples_leaf': 5, 'splitter': 'best', 'criterion': 'gini'}. Best is trial 12 with value: 0.9991477964450938.\n",
      "[I 2025-06-10 15:47:21,836] Trial 17 finished with value: 0.99896499238965 and parameters: {'max_depth': 100, 'max_features': 'sqrt', 'min_samples_split': 16, 'min_samples_leaf': 8, 'splitter': 'best', 'criterion': 'gini'}. Best is trial 12 with value: 0.9991477964450938.\n",
      "[I 2025-06-10 15:47:21,863] Trial 18 finished with value: 0.9989033751675399 and parameters: {'max_depth': 30, 'max_features': 'log2', 'min_samples_split': 6, 'min_samples_leaf': 6, 'splitter': 'random', 'criterion': 'entropy'}. Best is trial 12 with value: 0.9991477964450938.\n",
      "[I 2025-06-10 15:47:21,899] Trial 19 finished with value: 0.9992081379058293 and parameters: {'max_depth': 10, 'max_features': 'sqrt', 'min_samples_split': 11, 'min_samples_leaf': 1, 'splitter': 'best', 'criterion': 'gini'}. Best is trial 19 with value: 0.9992081379058293.\n",
      "[I 2025-06-10 15:47:21,937] Trial 20 finished with value: 0.9992081379058293 and parameters: {'max_depth': 10, 'max_features': 'sqrt', 'min_samples_split': 10, 'min_samples_leaf': 1, 'splitter': 'best', 'criterion': 'gini'}. Best is trial 19 with value: 0.9992081379058293.\n",
      "[I 2025-06-10 15:47:21,974] Trial 21 finished with value: 0.9992081379058293 and parameters: {'max_depth': 10, 'max_features': 'sqrt', 'min_samples_split': 11, 'min_samples_leaf': 1, 'splitter': 'best', 'criterion': 'gini'}. Best is trial 19 with value: 0.9992081379058293.\n",
      "[I 2025-06-10 15:47:22,009] Trial 22 finished with value: 0.9992081379058293 and parameters: {'max_depth': 10, 'max_features': 'sqrt', 'min_samples_split': 11, 'min_samples_leaf': 1, 'splitter': 'best', 'criterion': 'gini'}. Best is trial 19 with value: 0.9992081379058293.\n",
      "[I 2025-06-10 15:47:22,058] Trial 23 finished with value: 0.9992081379058293 and parameters: {'max_depth': 10, 'max_features': 'sqrt', 'min_samples_split': 10, 'min_samples_leaf': 1, 'splitter': 'best', 'criterion': 'gini'}. Best is trial 19 with value: 0.9992081379058293.\n",
      "[I 2025-06-10 15:47:22,097] Trial 24 finished with value: 0.9986611489776047 and parameters: {'max_depth': 10, 'max_features': 'sqrt', 'min_samples_split': 12, 'min_samples_leaf': 2, 'splitter': 'best', 'criterion': 'gini'}. Best is trial 19 with value: 0.9992081379058293.\n",
      "[I 2025-06-10 15:47:22,132] Trial 25 finished with value: 0.9992081379058293 and parameters: {'max_depth': 10, 'max_features': 'sqrt', 'min_samples_split': 9, 'min_samples_leaf': 2, 'splitter': 'best', 'criterion': 'gini'}. Best is trial 19 with value: 0.9992081379058293.\n",
      "[I 2025-06-10 15:47:22,156] Trial 26 finished with value: 0.9989641094387911 and parameters: {'max_depth': 10, 'max_features': 'sqrt', 'min_samples_split': 15, 'min_samples_leaf': 2, 'splitter': 'random', 'criterion': 'entropy'}. Best is trial 19 with value: 0.9992081379058293.\n",
      "[I 2025-06-10 15:47:22,193] Trial 27 finished with value: 0.9992690058479532 and parameters: {'max_depth': 10, 'max_features': 'sqrt', 'min_samples_split': 11, 'min_samples_leaf': 4, 'splitter': 'best', 'criterion': 'gini'}. Best is trial 27 with value: 0.9992690058479532.\n",
      "[I 2025-06-10 15:47:22,233] Trial 28 finished with value: 0.9991476926823328 and parameters: {'max_depth': 50, 'max_features': 'sqrt', 'min_samples_split': 12, 'min_samples_leaf': 4, 'splitter': 'best', 'criterion': 'gini'}. Best is trial 27 with value: 0.9992690058479532.\n",
      "[I 2025-06-10 15:47:22,263] Trial 29 finished with value: 0.999330207635633 and parameters: {'max_depth': None, 'max_features': None, 'min_samples_split': 9, 'min_samples_leaf': 4, 'splitter': 'random', 'criterion': 'entropy'}. Best is trial 29 with value: 0.999330207635633.\n",
      "[I 2025-06-10 15:47:22,293] Trial 30 finished with value: 0.9992693619094009 and parameters: {'max_depth': None, 'max_features': None, 'min_samples_split': 8, 'min_samples_leaf': 4, 'splitter': 'random', 'criterion': 'entropy'}. Best is trial 29 with value: 0.999330207635633.\n",
      "[I 2025-06-10 15:47:22,324] Trial 31 finished with value: 0.9992693619094009 and parameters: {'max_depth': None, 'max_features': None, 'min_samples_split': 8, 'min_samples_leaf': 4, 'splitter': 'random', 'criterion': 'entropy'}. Best is trial 29 with value: 0.999330207635633.\n",
      "[I 2025-06-10 15:47:22,352] Trial 32 finished with value: 0.9992082343626286 and parameters: {'max_depth': None, 'max_features': None, 'min_samples_split': 8, 'min_samples_leaf': 6, 'splitter': 'random', 'criterion': 'entropy'}. Best is trial 29 with value: 0.999330207635633.\n",
      "[I 2025-06-10 15:47:22,382] Trial 33 finished with value: 0.9992693619094009 and parameters: {'max_depth': None, 'max_features': None, 'min_samples_split': 4, 'min_samples_leaf': 4, 'splitter': 'random', 'criterion': 'entropy'}. Best is trial 29 with value: 0.999330207635633.\n",
      "[I 2025-06-10 15:47:22,412] Trial 34 finished with value: 0.9992693619094009 and parameters: {'max_depth': None, 'max_features': None, 'min_samples_split': 3, 'min_samples_leaf': 3, 'splitter': 'random', 'criterion': 'entropy'}. Best is trial 29 with value: 0.999330207635633.\n",
      "[I 2025-06-10 15:47:22,443] Trial 35 finished with value: 0.9992693619094009 and parameters: {'max_depth': None, 'max_features': None, 'min_samples_split': 5, 'min_samples_leaf': 4, 'splitter': 'random', 'criterion': 'entropy'}. Best is trial 29 with value: 0.999330207635633.\n",
      "[I 2025-06-10 15:47:22,473] Trial 36 finished with value: 0.9992082343626286 and parameters: {'max_depth': None, 'max_features': None, 'min_samples_split': 6, 'min_samples_leaf': 6, 'splitter': 'random', 'criterion': 'entropy'}. Best is trial 29 with value: 0.999330207635633.\n",
      "[I 2025-06-10 15:47:22,503] Trial 37 finished with value: 0.9992693619094009 and parameters: {'max_depth': None, 'max_features': None, 'min_samples_split': 4, 'min_samples_leaf': 4, 'splitter': 'random', 'criterion': 'entropy'}. Best is trial 29 with value: 0.999330207635633.\n",
      "[I 2025-06-10 15:47:22,534] Trial 38 finished with value: 0.9993301260580963 and parameters: {'max_depth': 70, 'max_features': None, 'min_samples_split': 7, 'min_samples_leaf': 3, 'splitter': 'random', 'criterion': 'entropy'}. Best is trial 29 with value: 0.999330207635633.\n",
      "[I 2025-06-10 15:47:22,566] Trial 39 finished with value: 0.999330207635633 and parameters: {'max_depth': 70, 'max_features': None, 'min_samples_split': 8, 'min_samples_leaf': 2, 'splitter': 'random', 'criterion': 'entropy'}. Best is trial 29 with value: 0.999330207635633.\n",
      "[I 2025-06-10 15:47:22,595] Trial 40 finished with value: 0.9993301260580963 and parameters: {'max_depth': 70, 'max_features': None, 'min_samples_split': 7, 'min_samples_leaf': 3, 'splitter': 'random', 'criterion': 'entropy'}. Best is trial 29 with value: 0.999330207635633.\n",
      "[I 2025-06-10 15:47:22,625] Trial 41 finished with value: 0.9993301260580963 and parameters: {'max_depth': 70, 'max_features': None, 'min_samples_split': 7, 'min_samples_leaf': 3, 'splitter': 'random', 'criterion': 'entropy'}. Best is trial 29 with value: 0.999330207635633.\n",
      "[I 2025-06-10 15:47:22,655] Trial 42 finished with value: 0.9992087162943576 and parameters: {'max_depth': 70, 'max_features': None, 'min_samples_split': 6, 'min_samples_leaf': 2, 'splitter': 'random', 'criterion': 'entropy'}. Best is trial 29 with value: 0.999330207635633.\n",
      "[I 2025-06-10 15:47:22,689] Trial 43 finished with value: 0.9993301260580963 and parameters: {'max_depth': 70, 'max_features': None, 'min_samples_split': 7, 'min_samples_leaf': 3, 'splitter': 'random', 'criterion': 'entropy'}. Best is trial 29 with value: 0.999330207635633.\n",
      "[I 2025-06-10 15:47:22,717] Trial 44 finished with value: 0.9993301260580963 and parameters: {'max_depth': 70, 'max_features': None, 'min_samples_split': 7, 'min_samples_leaf': 3, 'splitter': 'random', 'criterion': 'entropy'}. Best is trial 29 with value: 0.999330207635633.\n",
      "[I 2025-06-10 15:47:22,747] Trial 45 finished with value: 0.999452188203786 and parameters: {'max_depth': 70, 'max_features': None, 'min_samples_split': 9, 'min_samples_leaf': 2, 'splitter': 'random', 'criterion': 'entropy'}. Best is trial 45 with value: 0.999452188203786.\n",
      "[I 2025-06-10 15:47:22,777] Trial 46 finished with value: 0.999452188203786 and parameters: {'max_depth': 70, 'max_features': None, 'min_samples_split': 9, 'min_samples_leaf': 2, 'splitter': 'random', 'criterion': 'entropy'}. Best is trial 45 with value: 0.999452188203786.\n",
      "[I 2025-06-10 15:47:22,810] Trial 47 finished with value: 0.999086090294279 and parameters: {'max_depth': 5, 'max_features': None, 'min_samples_split': 9, 'min_samples_leaf': 2, 'splitter': 'random', 'criterion': 'entropy'}. Best is trial 45 with value: 0.999452188203786.\n",
      "[I 2025-06-10 15:47:22,839] Trial 48 finished with value: 0.999452188203786 and parameters: {'max_depth': 70, 'max_features': None, 'min_samples_split': 9, 'min_samples_leaf': 2, 'splitter': 'random', 'criterion': 'entropy'}. Best is trial 45 with value: 0.999452188203786.\n"
     ]
    },
    {
     "name": "stderr",
     "output_type": "stream",
     "text": [
      "[I 2025-06-10 15:47:22,873] A new study created in memory with name: no-name-1af30709-0751-4ed8-ac7b-b7d7b329e558\n"
     ]
    },
    {
     "name": "stdout",
     "output_type": "stream",
     "text": [
      "[I 2025-06-10 15:47:22,870] Trial 49 finished with value: 0.999330207635633 and parameters: {'max_depth': 70, 'max_features': None, 'min_samples_split': 13, 'min_samples_leaf': 2, 'splitter': 'random', 'criterion': 'entropy'}. Best is trial 45 with value: 0.999452188203786.\n"
     ]
    },
    {
     "data": {
      "application/vnd.jupyter.widget-view+json": {
       "model_id": "217b1d439fb645639b74acb7a955b5a4",
       "version_major": 2,
       "version_minor": 0
      },
      "text/plain": [
       "  0%|          | 0/20 [00:00<?, ?it/s]"
      ]
     },
     "metadata": {},
     "output_type": "display_data"
    },
    {
     "name": "stdout",
     "output_type": "stream",
     "text": [
      "[I 2025-06-10 15:47:24,072] Trial 0 finished with value: 0.9992691839220463 and parameters: {'n_estimators': 218, 'max_depth': 10, 'max_features': 'sqrt', 'min_samples_split': 7, 'min_samples_leaf': 2, 'criterion': 'entropy'}. Best is trial 0 with value: 0.9992691839220463.\n",
      "[I 2025-06-10 15:47:26,075] Trial 1 finished with value: 0.998965370336559 and parameters: {'n_estimators': 255, 'max_depth': 9, 'max_features': None, 'min_samples_split': 4, 'min_samples_leaf': 9, 'criterion': 'entropy'}. Best is trial 0 with value: 0.9992691839220463.\n",
      "[I 2025-06-10 15:47:27,914] Trial 2 finished with value: 0.999086090294279 and parameters: {'n_estimators': 296, 'max_depth': 1, 'max_features': None, 'min_samples_split': 2, 'min_samples_leaf': 13, 'criterion': 'gini'}. Best is trial 0 with value: 0.9992691839220463.\n",
      "[I 2025-06-10 15:47:28,763] Trial 3 finished with value: 0.9992085235920852 and parameters: {'n_estimators': 52, 'max_depth': 15, 'max_features': None, 'min_samples_split': 8, 'min_samples_leaf': 8, 'criterion': 'gini'}. Best is trial 0 with value: 0.9992691839220463.\n",
      "[I 2025-06-10 15:47:31,285] Trial 4 finished with value: 0.9992086199549522 and parameters: {'n_estimators': 285, 'max_depth': 15, 'max_features': None, 'min_samples_split': 9, 'min_samples_leaf': 3, 'criterion': 'gini'}. Best is trial 0 with value: 0.9992691839220463.\n",
      "[I 2025-06-10 15:47:34,426] Trial 5 finished with value: 0.9991477964450938 and parameters: {'n_estimators': 414, 'max_depth': 13, 'max_features': None, 'min_samples_split': 10, 'min_samples_leaf': 4, 'criterion': 'gini'}. Best is trial 0 with value: 0.9992691839220463.\n",
      "[I 2025-06-10 15:47:35,426] Trial 6 finished with value: 0.999086090294279 and parameters: {'n_estimators': 178, 'max_depth': 9, 'max_features': 'log2', 'min_samples_split': 2, 'min_samples_leaf': 11, 'criterion': 'gini'}. Best is trial 0 with value: 0.9992691839220463.\n",
      "[I 2025-06-10 15:47:35,834] Trial 7 finished with value: 0.9992690058479532 and parameters: {'n_estimators': 68, 'max_depth': 9, 'max_features': 'log2', 'min_samples_split': 6, 'min_samples_leaf': 4, 'criterion': 'entropy'}. Best is trial 0 with value: 0.9992691839220463.\n",
      "[I 2025-06-10 15:47:39,196] Trial 8 finished with value: 0.9992086199549522 and parameters: {'n_estimators': 456, 'max_depth': 10, 'max_features': None, 'min_samples_split': 7, 'min_samples_leaf': 3, 'criterion': 'gini'}. Best is trial 0 with value: 0.9992691839220463.\n",
      "[I 2025-06-10 15:47:40,698] Trial 9 finished with value: 0.9993302891933029 and parameters: {'n_estimators': 196, 'max_depth': 9, 'max_features': None, 'min_samples_split': 4, 'min_samples_leaf': 1, 'criterion': 'gini'}. Best is trial 9 with value: 0.9993302891933029.\n",
      "[I 2025-06-10 15:47:41,548] Trial 10 finished with value: 0.999086090294279 and parameters: {'n_estimators': 143, 'max_depth': None, 'max_features': 'sqrt', 'min_samples_split': 4, 'min_samples_leaf': 6, 'criterion': 'entropy'}. Best is trial 9 with value: 0.9993302891933029.\n",
      "[I 2025-06-10 15:47:42,814] Trial 11 finished with value: 0.9993301260580963 and parameters: {'n_estimators': 223, 'max_depth': 10, 'max_features': 'sqrt', 'min_samples_split': 5, 'min_samples_leaf': 1, 'criterion': 'entropy'}. Best is trial 9 with value: 0.9993302891933029.\n",
      "[I 2025-06-10 15:47:44,680] Trial 12 finished with value: 0.9993301260580963 and parameters: {'n_estimators': 330, 'max_depth': 11, 'max_features': 'sqrt', 'min_samples_split': 5, 'min_samples_leaf': 1, 'criterion': 'entropy'}. Best is trial 9 with value: 0.9993302891933029.\n",
      "[I 2025-06-10 15:47:45,453] Trial 13 finished with value: 0.999086090294279 and parameters: {'n_estimators': 131, 'max_depth': 14, 'max_features': 'sqrt', 'min_samples_split': 4, 'min_samples_leaf': 6, 'criterion': 'entropy'}. Best is trial 9 with value: 0.9993302891933029.\n",
      "[I 2025-06-10 15:47:47,364] Trial 14 finished with value: 0.9992080414255254 and parameters: {'n_estimators': 366, 'max_depth': 6, 'max_features': 'sqrt', 'min_samples_split': 3, 'min_samples_leaf': 2, 'criterion': 'gini'}. Best is trial 9 with value: 0.9993302891933029.\n",
      "[I 2025-06-10 15:47:48,343] Trial 15 finished with value: 0.999086090294279 and parameters: {'n_estimators': 206, 'max_depth': 3, 'max_features': 'log2', 'min_samples_split': 5, 'min_samples_leaf': 1, 'criterion': 'entropy'}. Best is trial 9 with value: 0.9993302891933029.\n",
      "[I 2025-06-10 15:47:49,099] Trial 16 finished with value: 0.999086090294279 and parameters: {'n_estimators': 121, 'max_depth': 4, 'max_features': 'sqrt', 'min_samples_split': 6, 'min_samples_leaf': 5, 'criterion': 'entropy'}. Best is trial 9 with value: 0.9993302891933029.\n",
      "[I 2025-06-10 15:47:50,809] Trial 17 finished with value: 0.9993300444606857 and parameters: {'n_estimators': 242, 'max_depth': 12, 'max_features': 'sqrt', 'min_samples_split': 5, 'min_samples_leaf': 1, 'criterion': 'gini'}. Best is trial 9 with value: 0.9993302891933029.\n",
      "[I 2025-06-10 15:47:52,166] Trial 18 finished with value: 0.9990261716372489 and parameters: {'n_estimators': 174, 'max_depth': 5, 'max_features': None, 'min_samples_split': 3, 'min_samples_leaf': 10, 'criterion': 'entropy'}. Best is trial 9 with value: 0.9993302891933029.\n"
     ]
    },
    {
     "name": "stderr",
     "output_type": "stream",
     "text": [
      "[I 2025-06-10 15:47:53,717] A new study created in memory with name: no-name-273f0d31-40ea-4eca-a43d-ae31f7a02a3b\n"
     ]
    },
    {
     "name": "stdout",
     "output_type": "stream",
     "text": [
      "[I 2025-06-10 15:47:53,715] Trial 19 finished with value: 0.999086090294279 and parameters: {'n_estimators': 351, 'max_depth': 2, 'max_features': 'log2', 'min_samples_split': 3, 'min_samples_leaf': 7, 'criterion': 'gini'}. Best is trial 9 with value: 0.9993302891933029.\n"
     ]
    },
    {
     "data": {
      "application/vnd.jupyter.widget-view+json": {
       "model_id": "ce4728d031a346bbb9e5e725239287e9",
       "version_major": 2,
       "version_minor": 0
      },
      "text/plain": [
       "  0%|          | 0/20 [00:00<?, ?it/s]"
      ]
     },
     "metadata": {},
     "output_type": "display_data"
    },
    {
     "name": "stdout",
     "output_type": "stream",
     "text": [
      "[I 2025-06-10 15:48:14,511] Trial 0 finished with value: 0.9992086199549522 and parameters: {'n_estimators': 800, 'max_depth': 3, 'min_samples_leaf': 22, 'min_samples_split': 102, 'max_features': 'log2', 'subsample': 0.9049512863264476, 'learning_rate': 0.1}. Best is trial 0 with value: 0.9992086199549522.\n",
      "[I 2025-06-10 15:48:58,405] Trial 1 finished with value: 0.9991477964450938 and parameters: {'n_estimators': 700, 'max_depth': 6, 'min_samples_leaf': 2, 'min_samples_split': 202, 'max_features': None, 'subsample': 0.8195344228012769, 'learning_rate': 0.1}. Best is trial 0 with value: 0.9992086199549522.\n",
      "[I 2025-06-10 15:49:29,865] Trial 2 finished with value: 0.9991476926823328 and parameters: {'n_estimators': 1000, 'max_depth': 4, 'min_samples_leaf': 2, 'min_samples_split': 52, 'max_features': 'sqrt', 'subsample': 0.8391965724838291, 'learning_rate': 0.05}. Best is trial 0 with value: 0.9992086199549522.\n",
      "[I 2025-06-10 15:49:55,351] Trial 3 finished with value: 0.9992085235920852 and parameters: {'n_estimators': 900, 'max_depth': 4, 'min_samples_leaf': 22, 'min_samples_split': 2, 'max_features': 'log2', 'subsample': 0.8148089303468181, 'learning_rate': 0.1}. Best is trial 0 with value: 0.9992086199549522.\n",
      "[I 2025-06-10 15:50:53,784] Trial 4 finished with value: 0.9991479001825928 and parameters: {'n_estimators': 700, 'max_depth': 4, 'min_samples_leaf': 32, 'min_samples_split': 152, 'max_features': None, 'subsample': 0.8855082036717099, 'learning_rate': 0.05}. Best is trial 0 with value: 0.9992086199549522.\n",
      "[I 2025-06-10 15:51:23,842] Trial 5 finished with value: 0.9992693619094009 and parameters: {'n_estimators': 800, 'max_depth': 10, 'min_samples_leaf': 22, 'min_samples_split': 152, 'max_features': 'sqrt', 'subsample': 0.8373140117772072, 'learning_rate': 0.1}. Best is trial 5 with value: 0.9992693619094009.\n",
      "[I 2025-06-10 15:52:31,620] Trial 6 finished with value: 0.9991477964450938 and parameters: {'n_estimators': 800, 'max_depth': 4, 'min_samples_leaf': 22, 'min_samples_split': 2, 'max_features': None, 'subsample': 0.9406037917790356, 'learning_rate': 0.05}. Best is trial 5 with value: 0.9992693619094009.\n",
      "[I 2025-06-10 15:53:35,014] Trial 7 finished with value: 0.9991477964450938 and parameters: {'n_estimators': 700, 'max_depth': 4, 'min_samples_leaf': 12, 'min_samples_split': 52, 'max_features': None, 'subsample': 0.9523239230657435, 'learning_rate': 0.05}. Best is trial 5 with value: 0.9992693619094009.\n",
      "[I 2025-06-10 15:53:54,158] Trial 8 finished with value: 0.9989652443849291 and parameters: {'n_estimators': 900, 'max_depth': 2, 'min_samples_leaf': 2, 'min_samples_split': 52, 'max_features': 'log2', 'subsample': 0.8773470692601075, 'learning_rate': 0.1}. Best is trial 5 with value: 0.9992693619094009.\n",
      "[I 2025-06-10 15:54:24,688] Trial 9 finished with value: 0.9992085235920852 and parameters: {'n_estimators': 900, 'max_depth': 4, 'min_samples_leaf': 12, 'min_samples_split': 152, 'max_features': 'log2', 'subsample': 0.9794220519905155, 'learning_rate': 0.1}. Best is trial 5 with value: 0.9992693619094009.\n",
      "[I 2025-06-10 15:54:56,746] Trial 10 finished with value: 0.9992693619094009 and parameters: {'n_estimators': 800, 'max_depth': 10, 'min_samples_leaf': 32, 'min_samples_split': 152, 'max_features': 'sqrt', 'subsample': 0.8569806823434393, 'learning_rate': 0.1}. Best is trial 5 with value: 0.9992693619094009.\n",
      "[I 2025-06-10 15:55:29,457] Trial 11 finished with value: 0.9992693619094009 and parameters: {'n_estimators': 800, 'max_depth': 10, 'min_samples_leaf': 32, 'min_samples_split': 152, 'max_features': 'sqrt', 'subsample': 0.8571708616890199, 'learning_rate': 0.1}. Best is trial 5 with value: 0.9992693619094009.\n",
      "[I 2025-06-10 15:56:00,983] Trial 12 finished with value: 0.9992693619094009 and parameters: {'n_estimators': 800, 'max_depth': 10, 'min_samples_leaf': 32, 'min_samples_split': 152, 'max_features': 'sqrt', 'subsample': 0.8022395758861154, 'learning_rate': 0.1}. Best is trial 5 with value: 0.9992693619094009.\n",
      "[I 2025-06-10 15:56:33,434] Trial 13 finished with value: 0.9992693619094009 and parameters: {'n_estimators': 800, 'max_depth': 8, 'min_samples_leaf': 32, 'min_samples_split': 152, 'max_features': 'sqrt', 'subsample': 0.8535701726617154, 'learning_rate': 0.1}. Best is trial 5 with value: 0.9992693619094009.\n",
      "[I 2025-06-10 15:57:04,975] Trial 14 finished with value: 0.9992085235920852 and parameters: {'n_estimators': 1000, 'max_depth': 8, 'min_samples_leaf': 22, 'min_samples_split': 202, 'max_features': 'sqrt', 'subsample': 0.911098381032856, 'learning_rate': 0.1}. Best is trial 5 with value: 0.9992693619094009.\n",
      "[I 2025-06-10 15:57:36,827] Trial 15 finished with value: 0.9992693619094009 and parameters: {'n_estimators': 800, 'max_depth': 8, 'min_samples_leaf': 32, 'min_samples_split': 102, 'max_features': 'sqrt', 'subsample': 0.8384719757176792, 'learning_rate': 0.1}. Best is trial 5 with value: 0.9992693619094009.\n",
      "[I 2025-06-10 15:58:07,381] Trial 16 finished with value: 0.999330207635633 and parameters: {'n_estimators': 800, 'max_depth': 9, 'min_samples_leaf': 22, 'min_samples_split': 152, 'max_features': 'sqrt', 'subsample': 0.8729500942328932, 'learning_rate': 0.1}. Best is trial 16 with value: 0.999330207635633.\n",
      "[I 2025-06-10 15:58:38,759] Trial 17 finished with value: 0.999330207635633 and parameters: {'n_estimators': 800, 'max_depth': 9, 'min_samples_leaf': 22, 'min_samples_split': 152, 'max_features': 'sqrt', 'subsample': 0.9256979512789367, 'learning_rate': 0.1}. Best is trial 16 with value: 0.999330207635633.\n",
      "[I 2025-06-10 15:59:24,829] Trial 18 finished with value: 0.9993302891933029 and parameters: {'n_estimators': 1000, 'max_depth': 7, 'min_samples_leaf': 22, 'min_samples_split': 152, 'max_features': 'sqrt', 'subsample': 0.9274568330520631, 'learning_rate': 0.05}. Best is trial 18 with value: 0.9993302891933029.\n",
      "[I 2025-06-10 16:00:10,805] Trial 19 finished with value: 0.999330207635633 and parameters: {'n_estimators': 1000, 'max_depth': 6, 'min_samples_leaf': 22, 'min_samples_split': 102, 'max_features': 'sqrt', 'subsample': 0.9990803778271493, 'learning_rate': 0.05}. Best is trial 18 with value: 0.9993302891933029.\n"
     ]
    }
   ],
   "source": [
    "tuning_results_2 = {}\n",
    "for model_key in ['lr', 'dt', 'rf', 'gb']:\n",
    "    if model_key == 'dt':\n",
    "        n_trials = 50\n",
    "    elif model_key == 'lr':\n",
    "        n_trials = 10\n",
    "    else:\n",
    "        n_trials = 20\n",
    "\n",
    "    params, score = tune_model_optuna(\n",
    "        model_key=model_key,\n",
    "        X_train=X_train_2,\n",
    "        y_train=y_train,\n",
    "        X_val=X_val_2,\n",
    "        y_val=y_val,\n",
    "        n_trials=n_trials\n",
    "    )\n",
    "    tuning_results_2[model_key] = params, score"
   ]
  },
  {
   "cell_type": "code",
   "execution_count": 125,
   "metadata": {},
   "outputs": [
    {
     "data": {
      "text/html": [
       "<div>\n",
       "<style scoped>\n",
       "    .dataframe tbody tr th:only-of-type {\n",
       "        vertical-align: middle;\n",
       "    }\n",
       "\n",
       "    .dataframe tbody tr th {\n",
       "        vertical-align: top;\n",
       "    }\n",
       "\n",
       "    .dataframe thead th {\n",
       "        text-align: right;\n",
       "    }\n",
       "</style>\n",
       "<table border=\"1\" class=\"dataframe\">\n",
       "  <thead>\n",
       "    <tr style=\"text-align: right;\">\n",
       "      <th></th>\n",
       "      <th>model</th>\n",
       "      <th>best_score</th>\n",
       "    </tr>\n",
       "  </thead>\n",
       "  <tbody>\n",
       "    <tr>\n",
       "      <th>1</th>\n",
       "      <td>dt</td>\n",
       "      <td>0.999452</td>\n",
       "    </tr>\n",
       "    <tr>\n",
       "      <th>2</th>\n",
       "      <td>rf</td>\n",
       "      <td>0.99933</td>\n",
       "    </tr>\n",
       "    <tr>\n",
       "      <th>3</th>\n",
       "      <td>gb</td>\n",
       "      <td>0.99933</td>\n",
       "    </tr>\n",
       "    <tr>\n",
       "      <th>0</th>\n",
       "      <td>lr</td>\n",
       "      <td>0.999269</td>\n",
       "    </tr>\n",
       "  </tbody>\n",
       "</table>\n",
       "</div>"
      ],
      "text/plain": [
       "  model best_score\n",
       "1    dt   0.999452\n",
       "2    rf    0.99933\n",
       "3    gb    0.99933\n",
       "0    lr   0.999269"
      ]
     },
     "execution_count": 125,
     "metadata": {},
     "output_type": "execute_result"
    }
   ],
   "source": [
    "tuning_results_df_2=pd.DataFrame(tuning_results_2).T.rename(columns={0:'best_params', 1:'best_score'}).reset_index().rename(columns={'index':'model'}).sort_values('best_score', ascending=False)\n",
    "\n",
    "tuning_results_df_2.drop(columns=['best_params']).sort_values('best_score', ascending=False)"
   ]
  },
  {
   "cell_type": "markdown",
   "metadata": {},
   "source": [
    "### Results"
   ]
  },
  {
   "cell_type": "markdown",
   "metadata": {},
   "source": [
    "#### Compare Best Model per Scenario"
   ]
  },
  {
   "cell_type": "markdown",
   "metadata": {},
   "source": [
    "- In scenario 1, the best model was **Gradient Boosting** manually tuned.\n",
    "- In scenario 2, the best model was **Decision Tree** optuna tuned.\n",
    "\n",
    "It seems the presence of `violation_code` allows a simple tree-based model like Decision Tree to accuratelly classify `critical_flag`. Let's see how these models perform on the test set."
   ]
  },
  {
   "cell_type": "code",
   "execution_count": 81,
   "metadata": {},
   "outputs": [],
   "source": [
    "from sklearn import metrics\n",
    "from sklearn.metrics import confusion_matrix, classification_report"
   ]
  },
  {
   "cell_type": "code",
   "execution_count": 83,
   "metadata": {},
   "outputs": [],
   "source": [
    "def make_confusion_matrix(\n",
    "    cf,\n",
    "    group_names = None,\n",
    "    categories ='auto',\n",
    "    count = True,\n",
    "    percent = True,\n",
    "    cbar = True,\n",
    "    xyticks = True,\n",
    "    xyplotlabels = True,\n",
    "    sum_stats = True,\n",
    "    figsize = None,\n",
    "    cmap = 'Blues',\n",
    "    title = None\n",
    "):\n",
    "    '''\n",
    "    This function will make a pretty plot of an sklearn Confusion Matrix cm using a Seaborn heatmap visualization.\n",
    "    Arguments\n",
    "    \n",
    "    Args: \n",
    "        cf -           Confusion matrix to be passed in\n",
    "        group_names -  List of strings that represent the labels row by row to be shown in each square\n",
    "        categories -   List of strings containing the categories to be displayed on the x,y axis. Default is 'auto'\n",
    "        count -        If True, show the raw number in the confusion matrix. Default is True\n",
    "        normalize -    If True, show the proportions for each category. Default is True\n",
    "        cbar -         If True, show the color bar. The cbar values are based off the values in the confusion matrix. Default is True\n",
    "        xyticks -      If True, show x and y ticks. Default is True\n",
    "        xyplotlabels - If True, show 'True Label' and 'Predicted Label' on the figure. Default is True\n",
    "        sum_stats -    If True, display summary statistics below the figure. Default is True\n",
    "        figsize -      Tuple representing the figure size. Default will be the matplotlib rcParams value\n",
    "        cmap -         Colormap of the values displayed from matplotlib.pyplot.cm. Default is 'Blues'\n",
    "        title -        Title for the heatmap. Default is None\n",
    "        \n",
    "    Returns: \n",
    "        Confusion Matrix Plot\n",
    "    '''\n",
    "    # Generating text inside each matrix square\n",
    "    blanks = ['' for i in range(cf.size)]\n",
    "\n",
    "    if group_names and len(group_names) == cf.size:\n",
    "        group_labels = ['{}\\n'.format(value) for value in group_names]\n",
    "    else:\n",
    "        group_labels = blanks\n",
    "\n",
    "    if count:\n",
    "        group_counts = ['{0:0.0f}\\n'.format(value) for value in cf.flatten()]\n",
    "    else:\n",
    "        group_counts = blanks\n",
    "\n",
    "    if percent:\n",
    "        group_percentages = ['{0:.2%}'.format(value) for value in cf.flatten()/np.sum(cf)]\n",
    "    else:\n",
    "        group_percentages = blanks\n",
    "\n",
    "    box_labels = [f'{v1}{v2}{v3}'.strip() for v1, v2, v3 in zip(group_labels,group_counts,group_percentages)]\n",
    "    box_labels = np.asarray(box_labels).reshape(cf.shape[0],cf.shape[1])\n",
    "\n",
    "    # Generating summary statistics & text for summary stats\n",
    "    if sum_stats:\n",
    "        # Accuracy is sum of diagonal divided by total observations\n",
    "        accuracy  = np.trace(cf) / float(np.sum(cf))\n",
    "\n",
    "        # if it is a binary confusion matrix, show some more stats\n",
    "        if len(cf) == 2:\n",
    "            # Metrics for Binary Confusion Matrices\n",
    "            precision = cf[1,1] / sum(cf[:,1])\n",
    "            recall    = cf[1,1] / sum(cf[1,:])\n",
    "            f1_score  = 2*precision*recall / (precision + recall)\n",
    "            stats_text = '\\n\\nAccuracy={:0.3f}\\nPrecision={:0.3f}\\nRecall={:0.3f}\\nF1 Score={:0.3f}'.format(\n",
    "                accuracy,precision,recall,f1_score)\n",
    "        else:\n",
    "            stats_text = '\\n\\nAccuracy={:0.3f}'.format(accuracy)\n",
    "    else:\n",
    "        stats_text = ''\n",
    "\n",
    "    # Setting figure parameters according to other arguments\n",
    "    if figsize == None:\n",
    "        # Gets default figure size if not set\n",
    "        figsize = plt.rcParams.get('figure.figsize')\n",
    "\n",
    "    if xyticks == False:\n",
    "        # Doesn't show categories if xyticks is False\n",
    "        categories = False\n",
    "\n",
    "    # Making the heatmap vizualization\n",
    "    plt.figure(figsize = figsize)\n",
    "    ax = sns.heatmap(\n",
    "        cf, \n",
    "        annot = box_labels, fmt = '',\n",
    "        cmap = cmap, cbar = cbar,\n",
    "        xticklabels = categories,\n",
    "        yticklabels = categories\n",
    "    )\n",
    "\n",
    "    if xyplotlabels:\n",
    "        plt.ylabel('True label', fontsize = 14)\n",
    "        plt.xlabel('Predicted label' + stats_text, fontsize = 14)\n",
    "    else:\n",
    "        plt.xlabel(stats_text, fontsize = 14)\n",
    "    \n",
    "    if title:\n",
    "        plt.title(title)\n",
    "\n",
    "def performance_metrics(y_Train, y_PredTrain, y_Test, y_PredTest):\n",
    "    '''\n",
    "    Creates Dataframe with the main benchmark metrics for Classfication models\n",
    "    \n",
    "    Args: \n",
    "        y_Train -      Series with target values used to train model\n",
    "        y_PredTrain -  Series with predicted values from y_Train\n",
    "        y_Test -       Series with test values used to validate model\n",
    "        y_PredTest -   Series with predicted values from y_Test\n",
    "        \n",
    "    Returns: \n",
    "        pandas.core.frame.DataFrame\n",
    "    '''\n",
    "    # Columns\n",
    "    measures_list = ['ACCURACY','PRECISION', 'RECALL','F1 SCORE','AUC']\n",
    "    \n",
    "    # Results for train data\n",
    "    train_results = [\n",
    "        round(metrics.accuracy_score(y_Train, y_PredTrain),4),  # Calculating accuracy\n",
    "        round(metrics.precision_score(y_Train, y_PredTrain),4),  # Calculating precision\n",
    "        round(metrics.recall_score(y_Train, y_PredTrain),4),  # Calculating recall\n",
    "        round(metrics.f1_score(y_Train, y_PredTrain),4),  # Calculating f1 score\n",
    "        round(metrics.roc_auc_score(y_Train, y_PredTrain),4)  # Calculating ROC area under the curve\n",
    "    ]\n",
    "    # Results for test data\n",
    "    test_results = [\n",
    "        round(metrics.accuracy_score(y_Test, y_PredTest),4),  # Calculating accuracy\n",
    "        round(metrics.precision_score(y_Test, y_PredTest),4),  # Calculating precision\n",
    "        round(metrics.recall_score(y_Test, y_PredTest),4),  # Calculating recall\n",
    "        round(metrics.f1_score(y_Test, y_PredTest),4),  # Calculating f1 score\n",
    "        round(metrics.roc_auc_score(y_Test, y_PredTest),4)  # Calculating ROC area under the curve\n",
    "    ]\n",
    "    \n",
    "    results = pd.DataFrame({'Measure': measures_list, 'Train': train_results, 'Test': test_results})\n",
    "    \n",
    "    # Comparison column\n",
    "    results['Difference'] = round(results['Train'] - results['Test'], 4) \n",
    "    \n",
    "    return results"
   ]
  },
  {
   "cell_type": "code",
   "execution_count": 77,
   "metadata": {},
   "outputs": [],
   "source": [
    "best_scenario_1_params = tuning_results['gb'][0]\n",
    "best_scenario_2_params = tuning_results_2['dt'][0]\n",
    "best_scenario_2_params.update({'random_state':42})\n",
    "\n",
    "# create and fit models\n",
    "GB1 = GradientBoostingClassifier(**best_scenario_1_params).fit(X_train_1, y_train)\n",
    "DT2 = DecisionTreeClassifier(**best_scenario_2_params).fit(X_train_2, y_train)\n",
    "\n",
    "# set labels\n",
    "labels = ['True Neg', 'False Pos', 'False Neg', 'True Pos']\n",
    "\n",
    "# target categories\n",
    "categories = ['Not Critical', 'Critical']"
   ]
  },
  {
   "cell_type": "code",
   "execution_count": 99,
   "metadata": {},
   "outputs": [
    {
     "data": {
      "image/png": "[encoded data removed]",
      "text/plain": [
       "<Figure size 900x600 with 2 Axes>"
      ]
     },
     "metadata": {},
     "output_type": "display_data"
    },
    {
     "name": "stdout",
     "output_type": "stream",
     "text": [
      "              precision    recall  f1-score   support\n",
      "\n",
      "Not Critical       1.00      1.00      1.00      6338\n",
      "    Critical       1.00      1.00      1.00      8095\n",
      "\n",
      "    accuracy                           1.00     14433\n",
      "   macro avg       1.00      1.00      1.00     14433\n",
      "weighted avg       1.00      1.00      1.00     14433\n",
      "\n",
      "\n",
      "\n",
      "Overfit Check:\n"
     ]
    },
    {
     "data": {
      "text/html": [
       "<div>\n",
       "<style scoped>\n",
       "    .dataframe tbody tr th:only-of-type {\n",
       "        vertical-align: middle;\n",
       "    }\n",
       "\n",
       "    .dataframe tbody tr th {\n",
       "        vertical-align: top;\n",
       "    }\n",
       "\n",
       "    .dataframe thead th {\n",
       "        text-align: right;\n",
       "    }\n",
       "</style>\n",
       "<table border=\"1\" class=\"dataframe\">\n",
       "  <thead>\n",
       "    <tr style=\"text-align: right;\">\n",
       "      <th></th>\n",
       "      <th>Measure</th>\n",
       "      <th>Train</th>\n",
       "      <th>Test</th>\n",
       "      <th>Difference</th>\n",
       "    </tr>\n",
       "  </thead>\n",
       "  <tbody>\n",
       "    <tr>\n",
       "      <th>0</th>\n",
       "      <td>ACCURACY</td>\n",
       "      <td>1.0</td>\n",
       "      <td>0.9987</td>\n",
       "      <td>0.0013</td>\n",
       "    </tr>\n",
       "    <tr>\n",
       "      <th>1</th>\n",
       "      <td>PRECISION</td>\n",
       "      <td>1.0</td>\n",
       "      <td>0.9985</td>\n",
       "      <td>0.0015</td>\n",
       "    </tr>\n",
       "    <tr>\n",
       "      <th>2</th>\n",
       "      <td>RECALL</td>\n",
       "      <td>1.0</td>\n",
       "      <td>0.9991</td>\n",
       "      <td>0.0009</td>\n",
       "    </tr>\n",
       "    <tr>\n",
       "      <th>3</th>\n",
       "      <td>F1 SCORE</td>\n",
       "      <td>1.0</td>\n",
       "      <td>0.9988</td>\n",
       "      <td>0.0012</td>\n",
       "    </tr>\n",
       "    <tr>\n",
       "      <th>4</th>\n",
       "      <td>AUC</td>\n",
       "      <td>1.0</td>\n",
       "      <td>0.9986</td>\n",
       "      <td>0.0014</td>\n",
       "    </tr>\n",
       "  </tbody>\n",
       "</table>\n",
       "</div>"
      ],
      "text/plain": [
       "     Measure  Train    Test  Difference\n",
       "0   ACCURACY    1.0  0.9987      0.0013\n",
       "1  PRECISION    1.0  0.9985      0.0015\n",
       "2     RECALL    1.0  0.9991      0.0009\n",
       "3   F1 SCORE    1.0  0.9988      0.0012\n",
       "4        AUC    1.0  0.9986      0.0014"
      ]
     },
     "metadata": {},
     "output_type": "display_data"
    }
   ],
   "source": [
    "y_pred = GB1.predict(X_test_1)\n",
    "y_pred_train = GB1.predict(X_train_1)\n",
    "\n",
    "# get model scores\n",
    "value_train = round(GB1.score(X_train_1, y_train), 3)\n",
    "value_test = round(GB1.score(X_test_1, y_test), 3)\n",
    "\n",
    "# plot confusion matrix\n",
    "cf = metrics.confusion_matrix(y_test, y_pred)\n",
    "make_confusion_matrix(\n",
    "    cf, \n",
    "    group_names = labels,\n",
    "    categories = categories,\n",
    "    figsize = (9,6)\n",
    ")\n",
    "plt.show()\n",
    "\n",
    "# create classification report\n",
    "print(classification_report(y_test, y_pred, target_names = categories))\n",
    "\n",
    "# dataframe report\n",
    "print('\\n\\nOverfit Check:')\n",
    "display(performance_metrics(y_train, y_pred_train, y_test, y_pred))"
   ]
  },
  {
   "cell_type": "code",
   "execution_count": 98,
   "metadata": {},
   "outputs": [
    {
     "data": {
      "image/png": "[encoded data removed]",
      "text/plain": [
       "<Figure size 600x600 with 1 Axes>"
      ]
     },
     "metadata": {},
     "output_type": "display_data"
    }
   ],
   "source": [
    "# get feature importance\n",
    "feature_importance = GB1.feature_importances_\n",
    "\n",
    "# get feature names\n",
    "feature_names = GB1.feature_names_in_\n",
    "\n",
    "feature_importance_df = pd.DataFrame({'feature': feature_names, 'importance': feature_importance}).sort_values('importance')\n",
    "\n",
    "# plot feature importance\n",
    "plt.figure(figsize=(6, 6))\n",
    "plt.barh(feature_importance_df['feature'], feature_importance_df['importance'])\n",
    "plt.title('Feature Importance Gradient Boosting - Scenario 1', fontsize=14, fontweight='bold')\n",
    "sns.despine()\n",
    "plt.show()"
   ]
  },
  {
   "cell_type": "code",
   "execution_count": 119,
   "metadata": {},
   "outputs": [
    {
     "name": "stdout",
     "output_type": "stream",
     "text": [
      "correct\n",
      "True     30\n",
      "False    18\n",
      "Name: count, dtype: int64\n",
      "\n",
      "Subset Accuracy (09A): 0.625\n",
      "Subset F1 Score (09A): 0.642578125\n",
      "\n",
      "\n",
      "Classification Report:\n",
      "               precision    recall  f1-score   support\n",
      "\n",
      "           0       0.79      0.66      0.72        35\n",
      "           1       0.37      0.54      0.44        13\n",
      "\n",
      "    accuracy                           0.62        48\n",
      "   macro avg       0.58      0.60      0.58        48\n",
      "weighted avg       0.68      0.62      0.64        48\n",
      "\n"
     ]
    }
   ],
   "source": [
    "# check performance on violation code \"09A\"\n",
    "# only one that both \"Not Critical\" & \"Critical\"\n",
    "y_pred = GB1.predict(X_test_1)\n",
    "y_pred_df = pd.DataFrame({'y_pred': y_pred}, index=y_test.index)\n",
    "tmp = pd.concat([y_test, y_pred_df], axis=1)\n",
    "tmp =  tmp.reset_index().rename(columns={target_feature: 'y_true'})\n",
    "tmp['violation_code'] = tmp.key.str.split('_').str[-1]\n",
    "tmp_subset = tmp.loc[tmp['violation_code'] == '09A'].copy()\n",
    "tmp_subset['correct'] = tmp_subset['y_true'] == tmp_subset['y_pred']\n",
    "print(tmp_subset['correct'].value_counts(), end='\\n\\n')\n",
    "\n",
    "accuracy = accuracy_score(tmp_subset['y_true'], tmp_subset['y_pred'])\n",
    "f1 = f1_score(tmp_subset['y_true'], tmp_subset['y_pred'], average='weighted')  # or 'macro' depending on your class balance\n",
    "report = classification_report(tmp_subset['y_true'], tmp_subset['y_pred'])\n",
    "\n",
    "print('Subset Accuracy (09A):', accuracy)\n",
    "print('Subset F1 Score (09A):', f1)\n",
    "print('\\n\\nClassification Report:\\n', report)"
   ]
  },
  {
   "cell_type": "markdown",
   "metadata": {},
   "source": [
    "---"
   ]
  },
  {
   "cell_type": "code",
   "execution_count": 84,
   "metadata": {},
   "outputs": [
    {
     "data": {
      "image/png": "[encoded data removed]",
      "text/plain": [
       "<Figure size 900x600 with 2 Axes>"
      ]
     },
     "metadata": {},
     "output_type": "display_data"
    },
    {
     "name": "stdout",
     "output_type": "stream",
     "text": [
      "              precision    recall  f1-score   support\n",
      "\n",
      "Not Critical       1.00      1.00      1.00      6338\n",
      "    Critical       1.00      1.00      1.00      8095\n",
      "\n",
      "    accuracy                           1.00     14433\n",
      "   macro avg       1.00      1.00      1.00     14433\n",
      "weighted avg       1.00      1.00      1.00     14433\n",
      "\n",
      "\n",
      "\n",
      "Overfit Check:\n"
     ]
    },
    {
     "data": {
      "text/html": [
       "<div>\n",
       "<style scoped>\n",
       "    .dataframe tbody tr th:only-of-type {\n",
       "        vertical-align: middle;\n",
       "    }\n",
       "\n",
       "    .dataframe tbody tr th {\n",
       "        vertical-align: top;\n",
       "    }\n",
       "\n",
       "    .dataframe thead th {\n",
       "        text-align: right;\n",
       "    }\n",
       "</style>\n",
       "<table border=\"1\" class=\"dataframe\">\n",
       "  <thead>\n",
       "    <tr style=\"text-align: right;\">\n",
       "      <th></th>\n",
       "      <th>Measure</th>\n",
       "      <th>Train</th>\n",
       "      <th>Test</th>\n",
       "      <th>Difference</th>\n",
       "    </tr>\n",
       "  </thead>\n",
       "  <tbody>\n",
       "    <tr>\n",
       "      <th>0</th>\n",
       "      <td>ACCURACY</td>\n",
       "      <td>0.9997</td>\n",
       "      <td>0.9985</td>\n",
       "      <td>0.0012</td>\n",
       "    </tr>\n",
       "    <tr>\n",
       "      <th>1</th>\n",
       "      <td>PRECISION</td>\n",
       "      <td>0.9998</td>\n",
       "      <td>0.9981</td>\n",
       "      <td>0.0017</td>\n",
       "    </tr>\n",
       "    <tr>\n",
       "      <th>2</th>\n",
       "      <td>RECALL</td>\n",
       "      <td>0.9997</td>\n",
       "      <td>0.9993</td>\n",
       "      <td>0.0004</td>\n",
       "    </tr>\n",
       "    <tr>\n",
       "      <th>3</th>\n",
       "      <td>F1 SCORE</td>\n",
       "      <td>0.9998</td>\n",
       "      <td>0.9987</td>\n",
       "      <td>0.0011</td>\n",
       "    </tr>\n",
       "    <tr>\n",
       "      <th>4</th>\n",
       "      <td>AUC</td>\n",
       "      <td>0.9997</td>\n",
       "      <td>0.9984</td>\n",
       "      <td>0.0013</td>\n",
       "    </tr>\n",
       "  </tbody>\n",
       "</table>\n",
       "</div>"
      ],
      "text/plain": [
       "     Measure   Train    Test  Difference\n",
       "0   ACCURACY  0.9997  0.9985      0.0012\n",
       "1  PRECISION  0.9998  0.9981      0.0017\n",
       "2     RECALL  0.9997  0.9993      0.0004\n",
       "3   F1 SCORE  0.9998  0.9987      0.0011\n",
       "4        AUC  0.9997  0.9984      0.0013"
      ]
     },
     "metadata": {},
     "output_type": "display_data"
    }
   ],
   "source": [
    "y_pred = DT2.predict(X_test_2)\n",
    "y_pred_train = DT2.predict(X_train_2)\n",
    "\n",
    "# get model scores\n",
    "value_train = round(DT2.score(X_train_2, y_train), 3)\n",
    "value_test = round(DT2.score(X_test_2, y_test), 3)\n",
    "\n",
    "# plot confusion matrix\n",
    "cf = metrics.confusion_matrix(y_test, y_pred)\n",
    "make_confusion_matrix(\n",
    "    cf, \n",
    "    group_names = labels,\n",
    "    categories = categories,\n",
    "    figsize = (9,6)\n",
    ")\n",
    "plt.show()\n",
    "\n",
    "# create classification report\n",
    "print(classification_report(y_test, y_pred, target_names = categories))\n",
    "\n",
    "# dataframe report\n",
    "print('\\n\\nOverfit Check:')\n",
    "display(performance_metrics(y_train, y_pred_train, y_test, y_pred))"
   ]
  },
  {
   "cell_type": "code",
   "execution_count": 96,
   "metadata": {},
   "outputs": [
    {
     "data": {
      "image/png": "[encoded data removed]",
      "text/plain": [
       "<Figure size 600x600 with 1 Axes>"
      ]
     },
     "metadata": {},
     "output_type": "display_data"
    }
   ],
   "source": [
    "# get feature importance\n",
    "feature_importance = DT2.feature_importances_\n",
    "\n",
    "# get feature names\n",
    "feature_names = DT2.feature_names_in_\n",
    "\n",
    "feature_importance_df = pd.DataFrame({'feature': feature_names, 'importance': feature_importance}).sort_values('importance')\n",
    "\n",
    "# plot feature importance\n",
    "plt.figure(figsize=(6, 6))\n",
    "plt.barh(feature_importance_df['feature'], feature_importance_df['importance'])\n",
    "plt.title('Feature Importance Decision Tree - Scenario 2', fontsize=14, fontweight='bold')\n",
    "sns.despine()\n",
    "plt.show()"
   ]
  },
  {
   "cell_type": "code",
   "execution_count": 120,
   "metadata": {},
   "outputs": [
    {
     "name": "stdout",
     "output_type": "stream",
     "text": [
      "correct\n",
      "True     27\n",
      "False    21\n",
      "Name: count, dtype: int64\n",
      "\n",
      "Subset Accuracy (09A): 0.5625\n",
      "Subset F1 Score (09A): 0.5864754098360655\n",
      "\n",
      "\n",
      "Classification Report:\n",
      "               precision    recall  f1-score   support\n",
      "\n",
      "           0       0.77      0.57      0.66        35\n",
      "           1       0.32      0.54      0.40        13\n",
      "\n",
      "    accuracy                           0.56        48\n",
      "   macro avg       0.54      0.55      0.53        48\n",
      "weighted avg       0.65      0.56      0.59        48\n",
      "\n"
     ]
    }
   ],
   "source": [
    "# check performance on violation code \"09A\"\n",
    "# only one that both \"Not Critical\" & \"Critical\"\n",
    "y_pred = DT2.predict(X_test_2)\n",
    "y_pred_df = pd.DataFrame({'y_pred': y_pred}, index=y_test.index)\n",
    "tmp = pd.concat([y_test, y_pred_df], axis=1)\n",
    "tmp =  tmp.reset_index().rename(columns={target_feature: 'y_true'})\n",
    "tmp['violation_code'] = tmp.key.str.split('_').str[-1]\n",
    "tmp_subset = tmp.loc[tmp['violation_code'] == '09A'].copy()\n",
    "tmp_subset['correct'] = tmp_subset['y_true'] == tmp_subset['y_pred']\n",
    "print(tmp_subset['correct'].value_counts(), end='\\n\\n')\n",
    "\n",
    "accuracy = accuracy_score(tmp_subset['y_true'], tmp_subset['y_pred'])\n",
    "f1 = f1_score(tmp_subset['y_true'], tmp_subset['y_pred'], average='weighted')  # or 'macro' depending on your class balance\n",
    "report = classification_report(tmp_subset['y_true'], tmp_subset['y_pred'])\n",
    "\n",
    "print('Subset Accuracy (09A):', accuracy)\n",
    "print('Subset F1 Score (09A):', f1)\n",
    "print('\\n\\nClassification Report:\\n', report)"
   ]
  },
  {
   "cell_type": "markdown",
   "metadata": {},
   "source": [
    "<!-- - Results revealed that both models perform well on unseen data. However, **Decision Tree from Scenario 2 (DT2) despite having `violation_code`, presented 3 more False Positives than Gradient Boosting from Scenario 1 (GB1)**, resulting in higher Precision on GB1. This means that **DT2 might classify more \"Not Critital\" violations as \"Critical\", possibly punishing restaurants when they don't deserve.\n",
    "\n",
    "- **GB1 also had slightly better F1-Score and ROC-AUC, meaning that it's able to better distinguish \"Critical\" from \"Not Critical\" violations than DT2**.\n",
    "\n",
    "- **DT2 has slightly better Recall for having 1 less False Negative**, meaning that GB1 misclassified 1 more violation that was \"Critical\" as \"Not Critical\", the restaurant should be penalized in this situation but it wasn't.\n",
    "\n",
    "- DT2 had slightly lower difference between train and test results.\n",
    "\n",
    "- We found Decision Tree might have had better metrics than other models in scenario 2, because it focused completely on `violation_code`, as we can see in feature importance plot. Since `violation_code`is maps the target almost completely.\n",
    "\n",
    "- GB1 had 19 total misclassifications, 18 of those were related to the code that was both \"Critical\" and \"Not Critical\". It achieved:\n",
    "```\n",
    "Subset Accuracy (09A): 0.6250\n",
    "Subset F1 Score (09A): 0.6426\n",
    "```\n",
    "- DT2 had 21 total misclassifications, **ALL** of those were related to the code that was both \"Critical\" and \"Not Critical\". It achieved:\n",
    "```\n",
    "Subset Accuracy (09A): 0.5625\n",
    "Subset F1 Score (09A): 0.5865\n",
    "```\n",
    "\n",
    "- **Conclusion: Both models and both scenarios presented positive results. `violation_code` was perfectly correlated with `critical_flag`, and as predicted it became too dominant in scenario 2. GB1 had slightly better ability to distinguish the classes without `violation_code`. GB1 in scenario 1 was deemed the best model at the best scenario.** -->"
   ]
  },
  {
   "cell_type": "markdown",
   "metadata": {},
   "source": [
    "### Save Results"
   ]
  },
  {
   "cell_type": "code",
   "execution_count": 89,
   "metadata": {},
   "outputs": [
    {
     "data": {
      "text/plain": [
       "['/Users/franco/Desktop/PMI_Case_Study/models/DT2.pkl']"
      ]
     },
     "execution_count": 89,
     "metadata": {},
     "output_type": "execute_result"
    }
   ],
   "source": [
    "# save models\n",
    "joblib.dump(GB1, join(models_path, 'GB1.pkl'))\n",
    "joblib.dump(DT2, join(models_path,'DT2.pkl'))"
   ]
  }
 ],
 "metadata": {
  "kernelspec": {
   "display_name": ".venv",
   "language": "python",
   "name": "python3"
  },
  "language_info": {
   "codemirror_mode": {
    "name": "ipython",
    "version": 3
   },
   "file_extension": ".py",
   "mimetype": "text/x-python",
   "name": "python",
   "nbconvert_exporter": "python",
   "pygments_lexer": "ipython3",
   "version": "3.11.4"
  }
 },
 "nbformat": 4,
 "nbformat_minor": 2
}
